{
 "cells": [
  {
   "cell_type": "code",
   "execution_count": 1,
   "id": "a904de7d",
   "metadata": {},
   "outputs": [],
   "source": [
    "import pandas as pd "
   ]
  },
  {
   "cell_type": "markdown",
   "id": "011afe97",
   "metadata": {},
   "source": [
    "# Series Function and some other functions :"
   ]
  },
  {
   "cell_type": "code",
   "execution_count": 2,
   "id": "715bbd9e",
   "metadata": {},
   "outputs": [
    {
     "data": {
      "text/plain": [
       "0    1\n",
       "1    2\n",
       "2    3\n",
       "3    4\n",
       "4    5\n",
       "5    6\n",
       "6    7\n",
       "7    8\n",
       "8    9\n",
       "dtype: int64"
      ]
     },
     "execution_count": 2,
     "metadata": {},
     "output_type": "execute_result"
    }
   ],
   "source": [
    "data = pd.Series([1,2,3,4,5,6,7,8,9])\n",
    "data  #Make index By himself"
   ]
  },
  {
   "cell_type": "code",
   "execution_count": 3,
   "id": "54fcc91e",
   "metadata": {},
   "outputs": [
    {
     "data": {
      "text/plain": [
       "count    9.000000\n",
       "mean     5.000000\n",
       "std      2.738613\n",
       "min      1.000000\n",
       "25%      3.000000\n",
       "50%      5.000000\n",
       "75%      7.000000\n",
       "max      9.000000\n",
       "dtype: float64"
      ]
     },
     "execution_count": 3,
     "metadata": {},
     "output_type": "execute_result"
    }
   ],
   "source": [
    "data.describe()  # Total informations you need "
   ]
  },
  {
   "cell_type": "code",
   "execution_count": 4,
   "id": "b93d4298",
   "metadata": {},
   "outputs": [
    {
     "data": {
      "text/plain": [
       "max      9.000000\n",
       "min      1.000000\n",
       "std      2.738613\n",
       "mean     5.000000\n",
       "sum     45.000000\n",
       "dtype: float64"
      ]
     },
     "execution_count": 4,
     "metadata": {},
     "output_type": "execute_result"
    }
   ],
   "source": [
    "data.agg(['max','min','std','mean','sum']) #you determine what you need"
   ]
  },
  {
   "cell_type": "markdown",
   "id": "0d3b9ab1",
   "metadata": {},
   "source": [
    "### You can Split Data :"
   ]
  },
  {
   "cell_type": "code",
   "execution_count": 8,
   "id": "a21a4af5",
   "metadata": {},
   "outputs": [
    {
     "name": "stdout",
     "output_type": "stream",
     "text": [
      "2\n",
      "*********************\n",
      "0    1\n",
      "1    2\n",
      "2    3\n",
      "3    4\n",
      "4    5\n",
      "5    6\n",
      "dtype: int64\n",
      "*********************\n",
      "2    3\n",
      "4    5\n",
      "6    7\n",
      "dtype: int64\n",
      "*********************\n",
      "3    4\n",
      "5    6\n",
      "dtype: int64\n"
     ]
    }
   ],
   "source": [
    "data = pd.Series([1,2,3,4,5,6,7,8,9])\n",
    "print(data[1])\n",
    "print(\"*********************\")\n",
    "print(data[0:6])\n",
    "print(\"*********************\")\n",
    "print(data[2:8:2])\n",
    "print(\"*********************\")\n",
    "print(data[3:7:2])"
   ]
  },
  {
   "cell_type": "markdown",
   "id": "724a9664",
   "metadata": {},
   "source": [
    "## Two ways to make index for values :"
   ]
  },
  {
   "cell_type": "code",
   "execution_count": 10,
   "id": "aa02dcd8",
   "metadata": {},
   "outputs": [
    {
     "data": {
      "text/plain": [
       "a    1\n",
       "b    2\n",
       "c    3\n",
       "d    4\n",
       "e    5\n",
       "dtype: int64"
      ]
     },
     "execution_count": 10,
     "metadata": {},
     "output_type": "execute_result"
    }
   ],
   "source": [
    "data = pd.Series([1,2,3,4,5],index = ['a','b','c','d','e'])\n",
    "data"
   ]
  },
  {
   "cell_type": "code",
   "execution_count": 11,
   "id": "6a1251f3",
   "metadata": {},
   "outputs": [
    {
     "data": {
      "text/plain": [
       "a    1\n",
       "b    2\n",
       "c    3\n",
       "d    4\n",
       "e    5\n",
       "dtype: int64"
      ]
     },
     "execution_count": 11,
     "metadata": {},
     "output_type": "execute_result"
    }
   ],
   "source": [
    "data = pd.Series({'a':1,'b':2,'c':3,'d':4,'e':5})  #by dictionary\n",
    "data"
   ]
  },
  {
   "cell_type": "code",
   "execution_count": 13,
   "id": "4964939b",
   "metadata": {},
   "outputs": [
    {
     "name": "stdout",
     "output_type": "stream",
     "text": [
      "1\n",
      "3\n",
      "2\n",
      "4\n"
     ]
    }
   ],
   "source": [
    "print(data['a'])\n",
    "print(data['c'])\n",
    "print(data['b'])\n",
    "print(data['d'])"
   ]
  },
  {
   "cell_type": "markdown",
   "id": "b023ca71",
   "metadata": {},
   "source": [
    "## Index Function:"
   ]
  },
  {
   "cell_type": "code",
   "execution_count": 21,
   "id": "82055d1d",
   "metadata": {},
   "outputs": [
    {
     "name": "stdout",
     "output_type": "stream",
     "text": [
      "Int64Index([1, 2], dtype='int64')\n"
     ]
    },
    {
     "name": "stderr",
     "output_type": "stream",
     "text": [
      "C:\\Users\\El-2rb3ene\\AppData\\Local\\Temp\\ipykernel_101980\\4186444971.py:3: FutureWarning: Index.__and__ operating as a set operation is deprecated, in the future this will be a logical operation matching Series.__and__.  Use index.intersection(other) instead.\n",
      "  print(a & b)\n"
     ]
    }
   ],
   "source": [
    "a = pd.Index([1,2,3,4,5,9])\n",
    "b = pd.Index([1,2,6,7,8])  \n",
    "print(a & b)"
   ]
  },
  {
   "cell_type": "code",
   "execution_count": 20,
   "id": "8755c306",
   "metadata": {},
   "outputs": [
    {
     "name": "stdout",
     "output_type": "stream",
     "text": [
      "Int64Index([1, 2, 3, 4, 5, 6, 7, 8, 9], dtype='int64')\n"
     ]
    },
    {
     "name": "stderr",
     "output_type": "stream",
     "text": [
      "C:\\Users\\El-2rb3ene\\AppData\\Local\\Temp\\ipykernel_101980\\2018724923.py:3: FutureWarning: Index.__or__ operating as a set operation is deprecated, in the future this will be a logical operation matching Series.__or__.  Use index.union(other) instead.\n",
      "  print(a | b)\n"
     ]
    }
   ],
   "source": [
    "a = pd.Index([1,2,3,4,5,9])\n",
    "b = pd.Index([1,2,6,7,8])  # بياخد كله \n",
    "print(a | b)"
   ]
  },
  {
   "cell_type": "code",
   "execution_count": 19,
   "id": "fc6d1a93",
   "metadata": {},
   "outputs": [
    {
     "name": "stdout",
     "output_type": "stream",
     "text": [
      "Int64Index([3, 4, 5, 6, 7, 8, 9], dtype='int64')\n"
     ]
    },
    {
     "name": "stderr",
     "output_type": "stream",
     "text": [
      "C:\\Users\\El-2rb3ene\\AppData\\Local\\Temp\\ipykernel_101980\\1835211635.py:3: FutureWarning: Index.__xor__ operating as a set operation is deprecated, in the future this will be a logical operation matching Series.__xor__.  Use index.symmetric_difference(other) instead.\n",
      "  print(a ^ b)\n"
     ]
    }
   ],
   "source": [
    "a = pd.Index([1,2,3,4,5,9])\n",
    "b = pd.Index([1,2,6,7,8])  # مش بياخد المشترك في الاتنين\n",
    "print(a ^ b)"
   ]
  },
  {
   "cell_type": "markdown",
   "id": "f7970370",
   "metadata": {},
   "source": [
    "## Graphics in Pandas:"
   ]
  },
  {
   "cell_type": "code",
   "execution_count": 25,
   "id": "d45a861e",
   "metadata": {},
   "outputs": [
    {
     "data": {
      "text/plain": [
       "<AxesSubplot:>"
      ]
     },
     "execution_count": 25,
     "metadata": {},
     "output_type": "execute_result"
    },
    {
     "data": {
      "image/png": "[encoded data removed]",
      "text/plain": [
       "<Figure size 432x288 with 1 Axes>"
      ]
     },
     "metadata": {
      "needs_background": "light"
     },
     "output_type": "display_data"
    }
   ],
   "source": [
    "data = pd.Series((1,2,3,4,5,6,8,1,2,5,3,4,9,6,3,2,9,6,3,1,2,4,5,6,8,4,10,6,4,8,5))\n",
    "data.plot()  # default is line garph"
   ]
  },
  {
   "cell_type": "code",
   "execution_count": 27,
   "id": "e4726078",
   "metadata": {},
   "outputs": [
    {
     "data": {
      "text/plain": [
       "<AxesSubplot:>"
      ]
     },
     "execution_count": 27,
     "metadata": {},
     "output_type": "execute_result"
    },
    {
     "data": {
      "image/png": "[encoded data removed]",
      "text/plain": [
       "<Figure size 432x288 with 1 Axes>"
      ]
     },
     "metadata": {
      "needs_background": "light"
     },
     "output_type": "display_data"
    }
   ],
   "source": [
    "data.plot(kind = 'line')"
   ]
  },
  {
   "cell_type": "code",
   "execution_count": 29,
   "id": "4688ba8a",
   "metadata": {},
   "outputs": [
    {
     "data": {
      "text/plain": [
       "<AxesSubplot:ylabel='None'>"
      ]
     },
     "execution_count": 29,
     "metadata": {},
     "output_type": "execute_result"
    },
    {
     "data": {
      "image/png": "[encoded data removed]",
      "text/plain": [
       "<Figure size 432x288 with 1 Axes>"
      ]
     },
     "metadata": {},
     "output_type": "display_data"
    }
   ],
   "source": [
    "data = pd.Series((1,2,3,4,5,6,8,1,2,5,3,4,9))\n",
    "data.plot(kind = 'pie') # شغال علي التردد والاندكس بتاع كل رقم و كام مره اتكرر   "
   ]
  },
  {
   "cell_type": "code",
   "execution_count": 30,
   "id": "607dfc52",
   "metadata": {},
   "outputs": [
    {
     "data": {
      "text/plain": [
       "<AxesSubplot:>"
      ]
     },
     "execution_count": 30,
     "metadata": {},
     "output_type": "execute_result"
    },
    {
     "data": {
      "image/png": "[encoded data removed]",
      "text/plain": [
       "<Figure size 432x288 with 1 Axes>"
      ]
     },
     "metadata": {
      "needs_background": "light"
     },
     "output_type": "display_data"
    }
   ],
   "source": [
    "data = pd.Series((1,2,3,4,5,6,8,1,2,5,3,4,9,6,3,2,9,6,3,1,2,4,5,6,8,4,10,6,4,8,5))\n",
    "data.plot(kind = 'bar')"
   ]
  },
  {
   "cell_type": "code",
   "execution_count": 32,
   "id": "749eb49c",
   "metadata": {},
   "outputs": [
    {
     "data": {
      "text/plain": [
       "<AxesSubplot:>"
      ]
     },
     "execution_count": 32,
     "metadata": {},
     "output_type": "execute_result"
    },
    {
     "data": {
      "image/png": "[encoded data removed]",
      "text/plain": [
       "<Figure size 432x288 with 1 Axes>"
      ]
     },
     "metadata": {
      "needs_background": "light"
     },
     "output_type": "display_data"
    }
   ],
   "source": [
    "data = pd.Series((1,2,3,4,5,6,8,1,2,5,3,4,9,4,8,5))\n",
    "data.plot(kind = 'barh')"
   ]
  },
  {
   "cell_type": "code",
   "execution_count": 35,
   "id": "abd99259",
   "metadata": {},
   "outputs": [
    {
     "data": {
      "text/plain": [
       "<AxesSubplot:ylabel='Frequency'>"
      ]
     },
     "execution_count": 35,
     "metadata": {},
     "output_type": "execute_result"
    },
    {
     "data": {
      "image/png": "[encoded data removed]",
      "text/plain": [
       "<Figure size 432x288 with 1 Axes>"
      ]
     },
     "metadata": {
      "needs_background": "light"
     },
     "output_type": "display_data"
    }
   ],
   "source": [
    "data = pd.Series((1,2,3,4,5,6,8,1,2,5,3,4,9,6,3,2,9,6,3,1,2,4,5,6,8,4,10,6,4,8,5))\n",
    "data.plot(kind = 'hist')  # شغال علي التردد والاندكس بتاع كل رقم و كام مره اتكرر   "
   ]
  },
  {
   "cell_type": "code",
   "execution_count": 36,
   "id": "24993277",
   "metadata": {},
   "outputs": [
    {
     "data": {
      "text/plain": [
       "<AxesSubplot:>"
      ]
     },
     "execution_count": 36,
     "metadata": {},
     "output_type": "execute_result"
    },
    {
     "data": {
      "image/png": "[encoded data removed]",
      "text/plain": [
       "<Figure size 432x288 with 1 Axes>"
      ]
     },
     "metadata": {
      "needs_background": "light"
     },
     "output_type": "display_data"
    }
   ],
   "source": [
    "data = pd.Series((1,2,3,4,5,6,8,1,2,5,3,4,9,6,3,2,9,6,3,1,2,4,5,6,8,4,10,6,4,8,5))\n",
    "data.plot(kind = 'area')  # شغال علي التردد والاندكس بتاع كل رقم و كام مره اتكرر   "
   ]
  },
  {
   "cell_type": "code",
   "execution_count": 37,
   "id": "c4ca0b83",
   "metadata": {},
   "outputs": [
    {
     "data": {
      "text/plain": [
       "<AxesSubplot:ylabel='Density'>"
      ]
     },
     "execution_count": 37,
     "metadata": {},
     "output_type": "execute_result"
    },
    {
     "data": {
      "image/png": "[encoded data removed]",
      "text/plain": [
       "<Figure size 432x288 with 1 Axes>"
      ]
     },
     "metadata": {
      "needs_background": "light"
     },
     "output_type": "display_data"
    }
   ],
   "source": [
    "data = pd.Series((1,2,3,4,5,6,8,1,2,5,3,4,9,6,3,2,9,6,3,1,2,4,5,6,8,4,10,6,4,8,5))\n",
    "data.plot(kind = 'kde')  # شغال علي التردد والاندكس بتاع كل رقم و كام مره اتكرر   "
   ]
  },
  {
   "cell_type": "code",
   "execution_count": 38,
   "id": "84352835",
   "metadata": {},
   "outputs": [
    {
     "data": {
      "text/plain": [
       "<AxesSubplot:>"
      ]
     },
     "execution_count": 38,
     "metadata": {},
     "output_type": "execute_result"
    },
    {
     "data": {
      "image/png": "[encoded data removed]",
      "text/plain": [
       "<Figure size 432x288 with 1 Axes>"
      ]
     },
     "metadata": {
      "needs_background": "light"
     },
     "output_type": "display_data"
    }
   ],
   "source": [
    "data = pd.Series((1,2,3,4,5,6,8,1,2,5,3,4,9,6,3,2,9,6,3,1,2,4,5,6,8,4,10,6,4,8,5))\n",
    "data.plot(kind = 'box')  # شغال علي التردد والاندكس بتاع كل رقم و كام مره اتكرر   "
   ]
  },
  {
   "cell_type": "code",
   "execution_count": 40,
   "id": "1cf9cc1b",
   "metadata": {},
   "outputs": [
    {
     "data": {
      "text/plain": [
       "<AxesSubplot:>"
      ]
     },
     "execution_count": 40,
     "metadata": {},
     "output_type": "execute_result"
    },
    {
     "data": {
      "image/png": "[encoded data removed]",
      "text/plain": [
       "<Figure size 432x288 with 1 Axes>"
      ]
     },
     "metadata": {
      "needs_background": "light"
     },
     "output_type": "display_data"
    }
   ],
   "source": [
    "data = pd.Series((1,2,3,4,5,6,7,8,9))\n",
    "data.plot(kind = 'box')  # شغال علي التردد والاندكس بتاع كل رقم و كام مره اتكرر   "
   ]
  },
  {
   "cell_type": "markdown",
   "id": "26eb7f44",
   "metadata": {},
   "source": [
    "# DataFrame Function:"
   ]
  },
  {
   "cell_type": "code",
   "execution_count": 41,
   "id": "86d66793",
   "metadata": {},
   "outputs": [],
   "source": [
    "import pandas as pd \n",
    "import numpy as np"
   ]
  },
  {
   "cell_type": "code",
   "execution_count": 45,
   "id": "c241bf5b",
   "metadata": {},
   "outputs": [
    {
     "name": "stdout",
     "output_type": "stream",
     "text": [
      "[[10  2  6  8 13  9]\n",
      " [ 7  3  2  4 19 18]\n",
      " [ 3 14  7  3  4  4]\n",
      " [14  3  8  5 19 17]\n",
      " [ 9 13 10 17  9  4]\n",
      " [ 6 15  6 13 13  7]]\n",
      "***************************************\n",
      "   one  two  three  four  five  six\n",
      "a   10    2      6     8    13    9\n",
      "b    7    3      2     4    19   18\n",
      "c    3   14      7     3     4    4\n",
      "d   14    3      8     5    19   17\n",
      "e    9   13     10    17     9    4\n",
      "f    6   15      6    13    13    7\n"
     ]
    }
   ],
   "source": [
    "data = np.random.randint(1,20,size = 36).reshape(6,6)\n",
    "print(data)\n",
    "print('***************************************')\n",
    "col = ['one','two','three','four','five','six']\n",
    "rows = ['a','b','c','d','e','f']\n",
    "df = pd.DataFrame(data,index = rows , columns = col)\n",
    "print(df)"
   ]
  },
  {
   "cell_type": "markdown",
   "id": "8c513d79",
   "metadata": {},
   "source": [
    "### Some queries on dataframe:"
   ]
  },
  {
   "cell_type": "code",
   "execution_count": 46,
   "id": "b797490d",
   "metadata": {},
   "outputs": [
    {
     "data": {
      "text/plain": [
       "a    10\n",
       "b     7\n",
       "c     3\n",
       "d    14\n",
       "e     9\n",
       "f     6\n",
       "Name: one, dtype: int32"
      ]
     },
     "execution_count": 46,
     "metadata": {},
     "output_type": "execute_result"
    }
   ],
   "source": [
    "df['one']"
   ]
  },
  {
   "cell_type": "code",
   "execution_count": 47,
   "id": "05f0ddae",
   "metadata": {},
   "outputs": [
    {
     "data": {
      "text/plain": [
       "a    13\n",
       "b    19\n",
       "c     4\n",
       "d    19\n",
       "e     9\n",
       "f    13\n",
       "Name: five, dtype: int32"
      ]
     },
     "execution_count": 47,
     "metadata": {},
     "output_type": "execute_result"
    }
   ],
   "source": [
    "df['five']"
   ]
  },
  {
   "cell_type": "code",
   "execution_count": 71,
   "id": "5264a1a2",
   "metadata": {},
   "outputs": [
    {
     "name": "stdout",
     "output_type": "stream",
     "text": [
      "True\n",
      "****************\n",
      "False\n",
      "****************\n",
      "True\n",
      "****************\n",
      "False\n"
     ]
    }
   ],
   "source": [
    "print('one' in df.keys())\n",
    "print('****************')\n",
    "print('seven' in df.keys())\n",
    "print('****************')\n",
    "print('four' in df.keys())\n",
    "print('****************')\n",
    "print('One' in df.keys())  # one not capital"
   ]
  },
  {
   "cell_type": "code",
   "execution_count": 73,
   "id": "7f075891",
   "metadata": {},
   "outputs": [
    {
     "name": "stdout",
     "output_type": "stream",
     "text": [
      "True\n",
      "****************\n",
      "False\n",
      "****************\n",
      "True\n",
      "****************\n",
      "True\n",
      "****************\n"
     ]
    }
   ],
   "source": [
    "print(13 in df.values)\n",
    "print('****************')\n",
    "print(35 in df.values)\n",
    "print('****************')\n",
    "print(2 in df.values)\n",
    "print('****************')\n",
    "print(19 in df.values)\n",
    "print('****************')"
   ]
  },
  {
   "cell_type": "code",
   "execution_count": 64,
   "id": "a31e163f",
   "metadata": {},
   "outputs": [
    {
     "name": "stdout",
     "output_type": "stream",
     "text": [
      "Index(['one', 'two', 'three', 'four', 'five', 'six'], dtype='object')\n"
     ]
    }
   ],
   "source": [
    "print(df.keys())"
   ]
  },
  {
   "cell_type": "code",
   "execution_count": 62,
   "id": "ab01d965",
   "metadata": {},
   "outputs": [
    {
     "name": "stdout",
     "output_type": "stream",
     "text": [
      "[[10  2  6  8 13  9]\n",
      " [ 7  3  2  4 19 18]\n",
      " [ 3 14  7  3  4  4]\n",
      " [14  3  8  5 19 17]\n",
      " [ 9 13 10 17  9  4]\n",
      " [ 6 15  6 13 13  7]]\n"
     ]
    }
   ],
   "source": [
    "print(df.values)"
   ]
  },
  {
   "cell_type": "code",
   "execution_count": 57,
   "id": "99bd3d3a",
   "metadata": {},
   "outputs": [
    {
     "data": {
      "text/html": [
       "<div>\n",
       "<style scoped>\n",
       "    .dataframe tbody tr th:only-of-type {\n",
       "        vertical-align: middle;\n",
       "    }\n",
       "\n",
       "    .dataframe tbody tr th {\n",
       "        vertical-align: top;\n",
       "    }\n",
       "\n",
       "    .dataframe thead th {\n",
       "        text-align: right;\n",
       "    }\n",
       "</style>\n",
       "<table border=\"1\" class=\"dataframe\">\n",
       "  <thead>\n",
       "    <tr style=\"text-align: right;\">\n",
       "      <th></th>\n",
       "      <th>a</th>\n",
       "      <th>b</th>\n",
       "      <th>c</th>\n",
       "      <th>d</th>\n",
       "      <th>e</th>\n",
       "      <th>f</th>\n",
       "    </tr>\n",
       "  </thead>\n",
       "  <tbody>\n",
       "    <tr>\n",
       "      <th>one</th>\n",
       "      <td>10</td>\n",
       "      <td>7</td>\n",
       "      <td>3</td>\n",
       "      <td>14</td>\n",
       "      <td>9</td>\n",
       "      <td>6</td>\n",
       "    </tr>\n",
       "    <tr>\n",
       "      <th>two</th>\n",
       "      <td>2</td>\n",
       "      <td>3</td>\n",
       "      <td>14</td>\n",
       "      <td>3</td>\n",
       "      <td>13</td>\n",
       "      <td>15</td>\n",
       "    </tr>\n",
       "    <tr>\n",
       "      <th>three</th>\n",
       "      <td>6</td>\n",
       "      <td>2</td>\n",
       "      <td>7</td>\n",
       "      <td>8</td>\n",
       "      <td>10</td>\n",
       "      <td>6</td>\n",
       "    </tr>\n",
       "    <tr>\n",
       "      <th>four</th>\n",
       "      <td>8</td>\n",
       "      <td>4</td>\n",
       "      <td>3</td>\n",
       "      <td>5</td>\n",
       "      <td>17</td>\n",
       "      <td>13</td>\n",
       "    </tr>\n",
       "    <tr>\n",
       "      <th>five</th>\n",
       "      <td>13</td>\n",
       "      <td>19</td>\n",
       "      <td>4</td>\n",
       "      <td>19</td>\n",
       "      <td>9</td>\n",
       "      <td>13</td>\n",
       "    </tr>\n",
       "    <tr>\n",
       "      <th>six</th>\n",
       "      <td>9</td>\n",
       "      <td>18</td>\n",
       "      <td>4</td>\n",
       "      <td>17</td>\n",
       "      <td>4</td>\n",
       "      <td>7</td>\n",
       "    </tr>\n",
       "  </tbody>\n",
       "</table>\n",
       "</div>"
      ],
      "text/plain": [
       "        a   b   c   d   e   f\n",
       "one    10   7   3  14   9   6\n",
       "two     2   3  14   3  13  15\n",
       "three   6   2   7   8  10   6\n",
       "four    8   4   3   5  17  13\n",
       "five   13  19   4  19   9  13\n",
       "six     9  18   4  17   4   7"
      ]
     },
     "execution_count": 57,
     "metadata": {},
     "output_type": "execute_result"
    }
   ],
   "source": [
    "df.T  #transpose"
   ]
  },
  {
   "cell_type": "code",
   "execution_count": 74,
   "id": "737d74f1",
   "metadata": {},
   "outputs": [
    {
     "data": {
      "text/plain": [
       "a  one      10\n",
       "   two       2\n",
       "   three     6\n",
       "   four      8\n",
       "   five     13\n",
       "   six       9\n",
       "b  one       7\n",
       "   two       3\n",
       "   three     2\n",
       "   four      4\n",
       "   five     19\n",
       "   six      18\n",
       "c  one       3\n",
       "   two      14\n",
       "   three     7\n",
       "   four      3\n",
       "   five      4\n",
       "   six       4\n",
       "d  one      14\n",
       "   two       3\n",
       "   three     8\n",
       "   four      5\n",
       "   five     19\n",
       "   six      17\n",
       "e  one       9\n",
       "   two      13\n",
       "   three    10\n",
       "   four     17\n",
       "   five      9\n",
       "   six       4\n",
       "f  one       6\n",
       "   two      15\n",
       "   three     6\n",
       "   four     13\n",
       "   five     13\n",
       "   six       7\n",
       "dtype: int32"
      ]
     },
     "execution_count": 74,
     "metadata": {},
     "output_type": "execute_result"
    }
   ],
   "source": [
    "df.stack()  # Take each row alone          ممممممممممممممممممممممههههههههههههههههههمممممممممممممممممممممم"
   ]
  },
  {
   "cell_type": "markdown",
   "id": "0ca214f3",
   "metadata": {},
   "source": [
    "# iloc and loc Functions"
   ]
  },
  {
   "cell_type": "markdown",
   "id": "75320f27",
   "metadata": {},
   "source": [
    "# loc Function for string // iloc Function for numbers"
   ]
  },
  {
   "cell_type": "code",
   "execution_count": 75,
   "id": "f1064ef9",
   "metadata": {},
   "outputs": [
    {
     "data": {
      "text/html": [
       "<div>\n",
       "<style scoped>\n",
       "    .dataframe tbody tr th:only-of-type {\n",
       "        vertical-align: middle;\n",
       "    }\n",
       "\n",
       "    .dataframe tbody tr th {\n",
       "        vertical-align: top;\n",
       "    }\n",
       "\n",
       "    .dataframe thead th {\n",
       "        text-align: right;\n",
       "    }\n",
       "</style>\n",
       "<table border=\"1\" class=\"dataframe\">\n",
       "  <thead>\n",
       "    <tr style=\"text-align: right;\">\n",
       "      <th></th>\n",
       "      <th>one</th>\n",
       "      <th>two</th>\n",
       "      <th>three</th>\n",
       "      <th>four</th>\n",
       "      <th>five</th>\n",
       "      <th>six</th>\n",
       "    </tr>\n",
       "  </thead>\n",
       "  <tbody>\n",
       "    <tr>\n",
       "      <th>a</th>\n",
       "      <td>10</td>\n",
       "      <td>2</td>\n",
       "      <td>6</td>\n",
       "      <td>8</td>\n",
       "      <td>13</td>\n",
       "      <td>9</td>\n",
       "    </tr>\n",
       "    <tr>\n",
       "      <th>b</th>\n",
       "      <td>7</td>\n",
       "      <td>3</td>\n",
       "      <td>2</td>\n",
       "      <td>4</td>\n",
       "      <td>19</td>\n",
       "      <td>18</td>\n",
       "    </tr>\n",
       "    <tr>\n",
       "      <th>c</th>\n",
       "      <td>3</td>\n",
       "      <td>14</td>\n",
       "      <td>7</td>\n",
       "      <td>3</td>\n",
       "      <td>4</td>\n",
       "      <td>4</td>\n",
       "    </tr>\n",
       "    <tr>\n",
       "      <th>d</th>\n",
       "      <td>14</td>\n",
       "      <td>3</td>\n",
       "      <td>8</td>\n",
       "      <td>5</td>\n",
       "      <td>19</td>\n",
       "      <td>17</td>\n",
       "    </tr>\n",
       "    <tr>\n",
       "      <th>e</th>\n",
       "      <td>9</td>\n",
       "      <td>13</td>\n",
       "      <td>10</td>\n",
       "      <td>17</td>\n",
       "      <td>9</td>\n",
       "      <td>4</td>\n",
       "    </tr>\n",
       "    <tr>\n",
       "      <th>f</th>\n",
       "      <td>6</td>\n",
       "      <td>15</td>\n",
       "      <td>6</td>\n",
       "      <td>13</td>\n",
       "      <td>13</td>\n",
       "      <td>7</td>\n",
       "    </tr>\n",
       "  </tbody>\n",
       "</table>\n",
       "</div>"
      ],
      "text/plain": [
       "   one  two  three  four  five  six\n",
       "a   10    2      6     8    13    9\n",
       "b    7    3      2     4    19   18\n",
       "c    3   14      7     3     4    4\n",
       "d   14    3      8     5    19   17\n",
       "e    9   13     10    17     9    4\n",
       "f    6   15      6    13    13    7"
      ]
     },
     "execution_count": 75,
     "metadata": {},
     "output_type": "execute_result"
    }
   ],
   "source": [
    "df"
   ]
  },
  {
   "cell_type": "code",
   "execution_count": 85,
   "id": "5d52a0d4",
   "metadata": {},
   "outputs": [
    {
     "data": {
      "text/html": [
       "<div>\n",
       "<style scoped>\n",
       "    .dataframe tbody tr th:only-of-type {\n",
       "        vertical-align: middle;\n",
       "    }\n",
       "\n",
       "    .dataframe tbody tr th {\n",
       "        vertical-align: top;\n",
       "    }\n",
       "\n",
       "    .dataframe thead th {\n",
       "        text-align: right;\n",
       "    }\n",
       "</style>\n",
       "<table border=\"1\" class=\"dataframe\">\n",
       "  <thead>\n",
       "    <tr style=\"text-align: right;\">\n",
       "      <th></th>\n",
       "      <th>one</th>\n",
       "      <th>two</th>\n",
       "      <th>three</th>\n",
       "    </tr>\n",
       "  </thead>\n",
       "  <tbody>\n",
       "    <tr>\n",
       "      <th>a</th>\n",
       "      <td>10</td>\n",
       "      <td>2</td>\n",
       "      <td>6</td>\n",
       "    </tr>\n",
       "    <tr>\n",
       "      <th>b</th>\n",
       "      <td>7</td>\n",
       "      <td>3</td>\n",
       "      <td>2</td>\n",
       "    </tr>\n",
       "  </tbody>\n",
       "</table>\n",
       "</div>"
      ],
      "text/plain": [
       "   one  two  three\n",
       "a   10    2      6\n",
       "b    7    3      2"
      ]
     },
     "execution_count": 85,
     "metadata": {},
     "output_type": "execute_result"
    }
   ],
   "source": [
    "df.iloc[:2,:3]"
   ]
  },
  {
   "cell_type": "code",
   "execution_count": 86,
   "id": "69e957eb",
   "metadata": {},
   "outputs": [
    {
     "data": {
      "text/html": [
       "<div>\n",
       "<style scoped>\n",
       "    .dataframe tbody tr th:only-of-type {\n",
       "        vertical-align: middle;\n",
       "    }\n",
       "\n",
       "    .dataframe tbody tr th {\n",
       "        vertical-align: top;\n",
       "    }\n",
       "\n",
       "    .dataframe thead th {\n",
       "        text-align: right;\n",
       "    }\n",
       "</style>\n",
       "<table border=\"1\" class=\"dataframe\">\n",
       "  <thead>\n",
       "    <tr style=\"text-align: right;\">\n",
       "      <th></th>\n",
       "      <th>one</th>\n",
       "      <th>two</th>\n",
       "      <th>three</th>\n",
       "      <th>four</th>\n",
       "      <th>five</th>\n",
       "      <th>six</th>\n",
       "    </tr>\n",
       "  </thead>\n",
       "  <tbody>\n",
       "    <tr>\n",
       "      <th>a</th>\n",
       "      <td>10</td>\n",
       "      <td>2</td>\n",
       "      <td>6</td>\n",
       "      <td>8</td>\n",
       "      <td>13</td>\n",
       "      <td>9</td>\n",
       "    </tr>\n",
       "    <tr>\n",
       "      <th>b</th>\n",
       "      <td>7</td>\n",
       "      <td>3</td>\n",
       "      <td>2</td>\n",
       "      <td>4</td>\n",
       "      <td>19</td>\n",
       "      <td>18</td>\n",
       "    </tr>\n",
       "    <tr>\n",
       "      <th>c</th>\n",
       "      <td>3</td>\n",
       "      <td>14</td>\n",
       "      <td>7</td>\n",
       "      <td>3</td>\n",
       "      <td>4</td>\n",
       "      <td>4</td>\n",
       "    </tr>\n",
       "  </tbody>\n",
       "</table>\n",
       "</div>"
      ],
      "text/plain": [
       "   one  two  three  four  five  six\n",
       "a   10    2      6     8    13    9\n",
       "b    7    3      2     4    19   18\n",
       "c    3   14      7     3     4    4"
      ]
     },
     "execution_count": 86,
     "metadata": {},
     "output_type": "execute_result"
    }
   ],
   "source": [
    "df.iloc[:3,:]"
   ]
  },
  {
   "cell_type": "code",
   "execution_count": 87,
   "id": "927bb31f",
   "metadata": {},
   "outputs": [
    {
     "data": {
      "text/plain": [
       "one       3\n",
       "two      14\n",
       "three     7\n",
       "four      3\n",
       "five      4\n",
       "six       4\n",
       "Name: c, dtype: int32"
      ]
     },
     "execution_count": 87,
     "metadata": {},
     "output_type": "execute_result"
    }
   ],
   "source": [
    "df.iloc[2]  # row is his index = 2 "
   ]
  },
  {
   "cell_type": "code",
   "execution_count": 88,
   "id": "5edee45e",
   "metadata": {},
   "outputs": [
    {
     "data": {
      "text/html": [
       "<div>\n",
       "<style scoped>\n",
       "    .dataframe tbody tr th:only-of-type {\n",
       "        vertical-align: middle;\n",
       "    }\n",
       "\n",
       "    .dataframe tbody tr th {\n",
       "        vertical-align: top;\n",
       "    }\n",
       "\n",
       "    .dataframe thead th {\n",
       "        text-align: right;\n",
       "    }\n",
       "</style>\n",
       "<table border=\"1\" class=\"dataframe\">\n",
       "  <thead>\n",
       "    <tr style=\"text-align: right;\">\n",
       "      <th></th>\n",
       "      <th>one</th>\n",
       "      <th>two</th>\n",
       "      <th>three</th>\n",
       "    </tr>\n",
       "  </thead>\n",
       "  <tbody>\n",
       "    <tr>\n",
       "      <th>b</th>\n",
       "      <td>7</td>\n",
       "      <td>3</td>\n",
       "      <td>2</td>\n",
       "    </tr>\n",
       "    <tr>\n",
       "      <th>c</th>\n",
       "      <td>3</td>\n",
       "      <td>14</td>\n",
       "      <td>7</td>\n",
       "    </tr>\n",
       "    <tr>\n",
       "      <th>d</th>\n",
       "      <td>14</td>\n",
       "      <td>3</td>\n",
       "      <td>8</td>\n",
       "    </tr>\n",
       "  </tbody>\n",
       "</table>\n",
       "</div>"
      ],
      "text/plain": [
       "   one  two  three\n",
       "b    7    3      2\n",
       "c    3   14      7\n",
       "d   14    3      8"
      ]
     },
     "execution_count": 88,
     "metadata": {},
     "output_type": "execute_result"
    }
   ],
   "source": [
    "df.loc['b':'d','one':'three']  # مهم جدا في عمل الاستعلامات عن البيانات اللي عندي مهم  "
   ]
  },
  {
   "cell_type": "code",
   "execution_count": 89,
   "id": "5221b60d",
   "metadata": {},
   "outputs": [
    {
     "data": {
      "text/html": [
       "<div>\n",
       "<style scoped>\n",
       "    .dataframe tbody tr th:only-of-type {\n",
       "        vertical-align: middle;\n",
       "    }\n",
       "\n",
       "    .dataframe tbody tr th {\n",
       "        vertical-align: top;\n",
       "    }\n",
       "\n",
       "    .dataframe thead th {\n",
       "        text-align: right;\n",
       "    }\n",
       "</style>\n",
       "<table border=\"1\" class=\"dataframe\">\n",
       "  <thead>\n",
       "    <tr style=\"text-align: right;\">\n",
       "      <th></th>\n",
       "      <th>one</th>\n",
       "      <th>two</th>\n",
       "      <th>three</th>\n",
       "      <th>four</th>\n",
       "      <th>five</th>\n",
       "    </tr>\n",
       "  </thead>\n",
       "  <tbody>\n",
       "    <tr>\n",
       "      <th>a</th>\n",
       "      <td>10</td>\n",
       "      <td>2</td>\n",
       "      <td>6</td>\n",
       "      <td>8</td>\n",
       "      <td>13</td>\n",
       "    </tr>\n",
       "    <tr>\n",
       "      <th>b</th>\n",
       "      <td>7</td>\n",
       "      <td>3</td>\n",
       "      <td>2</td>\n",
       "      <td>4</td>\n",
       "      <td>19</td>\n",
       "    </tr>\n",
       "    <tr>\n",
       "      <th>c</th>\n",
       "      <td>3</td>\n",
       "      <td>14</td>\n",
       "      <td>7</td>\n",
       "      <td>3</td>\n",
       "      <td>4</td>\n",
       "    </tr>\n",
       "    <tr>\n",
       "      <th>d</th>\n",
       "      <td>14</td>\n",
       "      <td>3</td>\n",
       "      <td>8</td>\n",
       "      <td>5</td>\n",
       "      <td>19</td>\n",
       "    </tr>\n",
       "    <tr>\n",
       "      <th>e</th>\n",
       "      <td>9</td>\n",
       "      <td>13</td>\n",
       "      <td>10</td>\n",
       "      <td>17</td>\n",
       "      <td>9</td>\n",
       "    </tr>\n",
       "    <tr>\n",
       "      <th>f</th>\n",
       "      <td>6</td>\n",
       "      <td>15</td>\n",
       "      <td>6</td>\n",
       "      <td>13</td>\n",
       "      <td>13</td>\n",
       "    </tr>\n",
       "  </tbody>\n",
       "</table>\n",
       "</div>"
      ],
      "text/plain": [
       "   one  two  three  four  five\n",
       "a   10    2      6     8    13\n",
       "b    7    3      2     4    19\n",
       "c    3   14      7     3     4\n",
       "d   14    3      8     5    19\n",
       "e    9   13     10    17     9\n",
       "f    6   15      6    13    13"
      ]
     },
     "execution_count": 89,
     "metadata": {},
     "output_type": "execute_result"
    }
   ],
   "source": [
    "df.loc['a':'f','one':'five']  # مهم جدا في عمل الاستعلامات عن البيانات اللي عندي مهم  "
   ]
  },
  {
   "cell_type": "markdown",
   "id": "a2d64b10",
   "metadata": {},
   "source": [
    "# Series Function and dictionary to create data :"
   ]
  },
  {
   "cell_type": "code",
   "execution_count": 102,
   "id": "9ccb13ce",
   "metadata": {},
   "outputs": [
    {
     "data": {
      "text/html": [
       "<div>\n",
       "<style scoped>\n",
       "    .dataframe tbody tr th:only-of-type {\n",
       "        vertical-align: middle;\n",
       "    }\n",
       "\n",
       "    .dataframe tbody tr th {\n",
       "        vertical-align: top;\n",
       "    }\n",
       "\n",
       "    .dataframe thead th {\n",
       "        text-align: right;\n",
       "    }\n",
       "</style>\n",
       "<table border=\"1\" class=\"dataframe\">\n",
       "  <thead>\n",
       "    <tr style=\"text-align: right;\">\n",
       "      <th></th>\n",
       "      <th>Math</th>\n",
       "      <th>Physics</th>\n",
       "      <th>French</th>\n",
       "      <th>chemistry</th>\n",
       "    </tr>\n",
       "  </thead>\n",
       "  <tbody>\n",
       "    <tr>\n",
       "      <th>a</th>\n",
       "      <td>5</td>\n",
       "      <td>2</td>\n",
       "      <td>6</td>\n",
       "      <td>10</td>\n",
       "    </tr>\n",
       "    <tr>\n",
       "      <th>b</th>\n",
       "      <td>10</td>\n",
       "      <td>12</td>\n",
       "      <td>7</td>\n",
       "      <td>8</td>\n",
       "    </tr>\n",
       "    <tr>\n",
       "      <th>c</th>\n",
       "      <td>13</td>\n",
       "      <td>25</td>\n",
       "      <td>20</td>\n",
       "      <td>9</td>\n",
       "    </tr>\n",
       "    <tr>\n",
       "      <th>d</th>\n",
       "      <td>23</td>\n",
       "      <td>28</td>\n",
       "      <td>20</td>\n",
       "      <td>3</td>\n",
       "    </tr>\n",
       "    <tr>\n",
       "      <th>e</th>\n",
       "      <td>15</td>\n",
       "      <td>19</td>\n",
       "      <td>18</td>\n",
       "      <td>16</td>\n",
       "    </tr>\n",
       "  </tbody>\n",
       "</table>\n",
       "</div>"
      ],
      "text/plain": [
       "   Math  Physics  French  chemistry\n",
       "a     5        2       6         10\n",
       "b    10       12       7          8\n",
       "c    13       25      20          9\n",
       "d    23       28      20          3\n",
       "e    15       19      18         16"
      ]
     },
     "execution_count": 102,
     "metadata": {},
     "output_type": "execute_result"
    }
   ],
   "source": [
    "w = pd.Series({'a': 5 , 'b':10 , 'c': 13 , 'd': 23 , 'e':15 })\n",
    "x = pd.Series({'a': 2 , 'b':12 , 'c': 25 , 'd': 28 , 'e':19 })\n",
    "y = pd.Series({'a': 6 , 'b':7 , 'c': 20 , 'd': 20 , 'e':18 })\n",
    "z = pd.Series({'a': 10 , 'b':8 , 'c': 9 , 'd': 3 , 'e':16 })\n",
    "\n",
    "df = pd.DataFrame({'Math':w ,'Physics':x , 'French':y , 'chemistry':z})\n",
    "df"
   ]
  },
  {
   "cell_type": "code",
   "execution_count": 103,
   "id": "9e33d7f0",
   "metadata": {},
   "outputs": [
    {
     "data": {
      "text/html": [
       "<div>\n",
       "<style scoped>\n",
       "    .dataframe tbody tr th:only-of-type {\n",
       "        vertical-align: middle;\n",
       "    }\n",
       "\n",
       "    .dataframe tbody tr th {\n",
       "        vertical-align: top;\n",
       "    }\n",
       "\n",
       "    .dataframe thead th {\n",
       "        text-align: right;\n",
       "    }\n",
       "</style>\n",
       "<table border=\"1\" class=\"dataframe\">\n",
       "  <thead>\n",
       "    <tr style=\"text-align: right;\">\n",
       "      <th></th>\n",
       "      <th>Math</th>\n",
       "      <th>Physics</th>\n",
       "      <th>French</th>\n",
       "    </tr>\n",
       "  </thead>\n",
       "  <tbody>\n",
       "    <tr>\n",
       "      <th>a</th>\n",
       "      <td>5</td>\n",
       "      <td>2</td>\n",
       "      <td>6</td>\n",
       "    </tr>\n",
       "    <tr>\n",
       "      <th>b</th>\n",
       "      <td>10</td>\n",
       "      <td>12</td>\n",
       "      <td>7</td>\n",
       "    </tr>\n",
       "  </tbody>\n",
       "</table>\n",
       "</div>"
      ],
      "text/plain": [
       "   Math  Physics  French\n",
       "a     5        2       6\n",
       "b    10       12       7"
      ]
     },
     "execution_count": 103,
     "metadata": {},
     "output_type": "execute_result"
    }
   ],
   "source": [
    "df.iloc[:2,:3]"
   ]
  },
  {
   "cell_type": "code",
   "execution_count": 104,
   "id": "c6b35b8e",
   "metadata": {},
   "outputs": [
    {
     "data": {
      "text/html": [
       "<div>\n",
       "<style scoped>\n",
       "    .dataframe tbody tr th:only-of-type {\n",
       "        vertical-align: middle;\n",
       "    }\n",
       "\n",
       "    .dataframe tbody tr th {\n",
       "        vertical-align: top;\n",
       "    }\n",
       "\n",
       "    .dataframe thead th {\n",
       "        text-align: right;\n",
       "    }\n",
       "</style>\n",
       "<table border=\"1\" class=\"dataframe\">\n",
       "  <thead>\n",
       "    <tr style=\"text-align: right;\">\n",
       "      <th></th>\n",
       "      <th>Math</th>\n",
       "      <th>Physics</th>\n",
       "      <th>French</th>\n",
       "      <th>chemistry</th>\n",
       "    </tr>\n",
       "  </thead>\n",
       "  <tbody>\n",
       "    <tr>\n",
       "      <th>c</th>\n",
       "      <td>13</td>\n",
       "      <td>25</td>\n",
       "      <td>20</td>\n",
       "      <td>9</td>\n",
       "    </tr>\n",
       "    <tr>\n",
       "      <th>d</th>\n",
       "      <td>23</td>\n",
       "      <td>28</td>\n",
       "      <td>20</td>\n",
       "      <td>3</td>\n",
       "    </tr>\n",
       "    <tr>\n",
       "      <th>e</th>\n",
       "      <td>15</td>\n",
       "      <td>19</td>\n",
       "      <td>18</td>\n",
       "      <td>16</td>\n",
       "    </tr>\n",
       "  </tbody>\n",
       "</table>\n",
       "</div>"
      ],
      "text/plain": [
       "   Math  Physics  French  chemistry\n",
       "c    13       25      20          9\n",
       "d    23       28      20          3\n",
       "e    15       19      18         16"
      ]
     },
     "execution_count": 104,
     "metadata": {},
     "output_type": "execute_result"
    }
   ],
   "source": [
    "df.loc[df.Math>10]  # اعرض هنا لما يكون الماس اكبر من 10 "
   ]
  },
  {
   "cell_type": "code",
   "execution_count": 105,
   "id": "917e2448",
   "metadata": {},
   "outputs": [
    {
     "data": {
      "text/html": [
       "<div>\n",
       "<style scoped>\n",
       "    .dataframe tbody tr th:only-of-type {\n",
       "        vertical-align: middle;\n",
       "    }\n",
       "\n",
       "    .dataframe tbody tr th {\n",
       "        vertical-align: top;\n",
       "    }\n",
       "\n",
       "    .dataframe thead th {\n",
       "        text-align: right;\n",
       "    }\n",
       "</style>\n",
       "<table border=\"1\" class=\"dataframe\">\n",
       "  <thead>\n",
       "    <tr style=\"text-align: right;\">\n",
       "      <th></th>\n",
       "      <th>Math</th>\n",
       "      <th>French</th>\n",
       "    </tr>\n",
       "  </thead>\n",
       "  <tbody>\n",
       "    <tr>\n",
       "      <th>c</th>\n",
       "      <td>13</td>\n",
       "      <td>20</td>\n",
       "    </tr>\n",
       "    <tr>\n",
       "      <th>d</th>\n",
       "      <td>23</td>\n",
       "      <td>20</td>\n",
       "    </tr>\n",
       "    <tr>\n",
       "      <th>e</th>\n",
       "      <td>15</td>\n",
       "      <td>18</td>\n",
       "    </tr>\n",
       "  </tbody>\n",
       "</table>\n",
       "</div>"
      ],
      "text/plain": [
       "   Math  French\n",
       "c    13      20\n",
       "d    23      20\n",
       "e    15      18"
      ]
     },
     "execution_count": 105,
     "metadata": {},
     "output_type": "execute_result"
    }
   ],
   "source": [
    "df.loc[df.Math>10,['Math','French']] # اعرض هنا الماس و الفرينش لما يكون الماس اكبر من 10 "
   ]
  },
  {
   "cell_type": "code",
   "execution_count": 110,
   "id": "63abdf26",
   "metadata": {},
   "outputs": [
    {
     "data": {
      "text/html": [
       "<div>\n",
       "<style scoped>\n",
       "    .dataframe tbody tr th:only-of-type {\n",
       "        vertical-align: middle;\n",
       "    }\n",
       "\n",
       "    .dataframe tbody tr th {\n",
       "        vertical-align: top;\n",
       "    }\n",
       "\n",
       "    .dataframe thead th {\n",
       "        text-align: right;\n",
       "    }\n",
       "</style>\n",
       "<table border=\"1\" class=\"dataframe\">\n",
       "  <thead>\n",
       "    <tr style=\"text-align: right;\">\n",
       "      <th></th>\n",
       "      <th>Math</th>\n",
       "      <th>French</th>\n",
       "      <th>Physics</th>\n",
       "    </tr>\n",
       "  </thead>\n",
       "  <tbody>\n",
       "    <tr>\n",
       "      <th>c</th>\n",
       "      <td>13</td>\n",
       "      <td>20</td>\n",
       "      <td>25</td>\n",
       "    </tr>\n",
       "    <tr>\n",
       "      <th>d</th>\n",
       "      <td>23</td>\n",
       "      <td>20</td>\n",
       "      <td>28</td>\n",
       "    </tr>\n",
       "  </tbody>\n",
       "</table>\n",
       "</div>"
      ],
      "text/plain": [
       "   Math  French  Physics\n",
       "c    13      20       25\n",
       "d    23      20       28"
      ]
     },
     "execution_count": 110,
     "metadata": {},
     "output_type": "execute_result"
    }
   ],
   "source": [
    "df.loc[df.Physics>20,['Math','French','Physics']]"
   ]
  },
  {
   "cell_type": "markdown",
   "id": "0313222a",
   "metadata": {},
   "source": [
    "# Sorting in df:"
   ]
  },
  {
   "cell_type": "code",
   "execution_count": 119,
   "id": "18b575f7",
   "metadata": {},
   "outputs": [
    {
     "name": "stdout",
     "output_type": "stream",
     "text": [
      "   Math  Physics  French  chemistry\n",
      "a     5        2       6         10\n",
      "b    10       12       7          8\n",
      "e    15       19      18         16\n",
      "c    13       25      20          9\n",
      "d    23       28      20          3\n"
     ]
    }
   ],
   "source": [
    "print(df.sort_values(['French'], ascending = True ))  # تصاعدي"
   ]
  },
  {
   "cell_type": "code",
   "execution_count": 118,
   "id": "d975cddd",
   "metadata": {},
   "outputs": [
    {
     "name": "stdout",
     "output_type": "stream",
     "text": [
      "   Math  Physics  French  chemistry\n",
      "c    13       25      20          9\n",
      "d    23       28      20          3\n",
      "e    15       19      18         16\n",
      "b    10       12       7          8\n",
      "a     5        2       6         10\n"
     ]
    }
   ],
   "source": [
    "print(df.sort_values(['French'], ascending = False )) # تنازلي "
   ]
  },
  {
   "cell_type": "code",
   "execution_count": 120,
   "id": "c6baba60",
   "metadata": {},
   "outputs": [
    {
     "name": "stdout",
     "output_type": "stream",
     "text": [
      "   Math  Physics  French  chemistry\n",
      "a     5        2       6         10\n",
      "b    10       12       7          8\n",
      "c    13       25      20          9\n",
      "e    15       19      18         16\n",
      "d    23       28      20          3\n"
     ]
    }
   ],
   "source": [
    "print(df.sort_values(['Math'],ascending = True))"
   ]
  },
  {
   "cell_type": "code",
   "execution_count": 121,
   "id": "d01a0b62",
   "metadata": {},
   "outputs": [
    {
     "name": "stdout",
     "output_type": "stream",
     "text": [
      "   Math  Physics  French  chemistry\n",
      "d    23       28      20          3\n",
      "e    15       19      18         16\n",
      "c    13       25      20          9\n",
      "b    10       12       7          8\n",
      "a     5        2       6         10\n"
     ]
    }
   ],
   "source": [
    "print(df.sort_values(['Math'],ascending = False))"
   ]
  },
  {
   "cell_type": "markdown",
   "id": "f3f30299",
   "metadata": {},
   "source": [
    "## Some Function in df:(max,min,sts,mean)"
   ]
  },
  {
   "cell_type": "code",
   "execution_count": 122,
   "id": "a120296a",
   "metadata": {},
   "outputs": [
    {
     "data": {
      "text/plain": [
       "Math         23\n",
       "Physics      28\n",
       "French       20\n",
       "chemistry    16\n",
       "dtype: int64"
      ]
     },
     "execution_count": 122,
     "metadata": {},
     "output_type": "execute_result"
    }
   ],
   "source": [
    "df.max()"
   ]
  },
  {
   "cell_type": "code",
   "execution_count": 123,
   "id": "6d9851b0",
   "metadata": {},
   "outputs": [
    {
     "data": {
      "text/plain": [
       "Math         5\n",
       "Physics      2\n",
       "French       6\n",
       "chemistry    3\n",
       "dtype: int64"
      ]
     },
     "execution_count": 123,
     "metadata": {},
     "output_type": "execute_result"
    }
   ],
   "source": [
    "df.min()"
   ]
  },
  {
   "cell_type": "code",
   "execution_count": 124,
   "id": "f92fda3b",
   "metadata": {},
   "outputs": [
    {
     "data": {
      "text/plain": [
       "Math          6.648308\n",
       "Physics      10.473777\n",
       "French        7.085196\n",
       "chemistry     4.658326\n",
       "dtype: float64"
      ]
     },
     "execution_count": 124,
     "metadata": {},
     "output_type": "execute_result"
    }
   ],
   "source": [
    "df.std()"
   ]
  },
  {
   "cell_type": "code",
   "execution_count": 125,
   "id": "5c830ef2",
   "metadata": {},
   "outputs": [
    {
     "data": {
      "text/plain": [
       "Math         13.2\n",
       "Physics      17.2\n",
       "French       14.2\n",
       "chemistry     9.2\n",
       "dtype: float64"
      ]
     },
     "execution_count": 125,
     "metadata": {},
     "output_type": "execute_result"
    }
   ],
   "source": [
    "df.mean()"
   ]
  },
  {
   "cell_type": "code",
   "execution_count": 130,
   "id": "07544e7d",
   "metadata": {},
   "outputs": [
    {
     "name": "stdout",
     "output_type": "stream",
     "text": [
      "23\n",
      "************\n",
      "2\n",
      "************\n",
      "7.085195833567341\n",
      "************\n",
      "9.2\n"
     ]
    }
   ],
   "source": [
    "print(df['Math'].max())\n",
    "print('************')\n",
    "print(df['Physics'].min())\n",
    "print('************')\n",
    "print(df['French'].std())\n",
    "print('************')\n",
    "print(df['chemistry'].mean())"
   ]
  },
  {
   "cell_type": "markdown",
   "id": "3364f2c2",
   "metadata": {},
   "source": [
    "## correlation coefficient : corr()"
   ]
  },
  {
   "cell_type": "code",
   "execution_count": 132,
   "id": "04859337",
   "metadata": {},
   "outputs": [
    {
     "data": {
      "text/html": [
       "<div>\n",
       "<style scoped>\n",
       "    .dataframe tbody tr th:only-of-type {\n",
       "        vertical-align: middle;\n",
       "    }\n",
       "\n",
       "    .dataframe tbody tr th {\n",
       "        vertical-align: top;\n",
       "    }\n",
       "\n",
       "    .dataframe thead th {\n",
       "        text-align: right;\n",
       "    }\n",
       "</style>\n",
       "<table border=\"1\" class=\"dataframe\">\n",
       "  <thead>\n",
       "    <tr style=\"text-align: right;\">\n",
       "      <th></th>\n",
       "      <th>Math</th>\n",
       "      <th>Physics</th>\n",
       "      <th>French</th>\n",
       "      <th>chemistry</th>\n",
       "    </tr>\n",
       "  </thead>\n",
       "  <tbody>\n",
       "    <tr>\n",
       "      <th>Math</th>\n",
       "      <td>1.000000</td>\n",
       "      <td>0.893256</td>\n",
       "      <td>0.810962</td>\n",
       "      <td>-0.413303</td>\n",
       "    </tr>\n",
       "    <tr>\n",
       "      <th>Physics</th>\n",
       "      <td>0.893256</td>\n",
       "      <td>1.000000</td>\n",
       "      <td>0.932504</td>\n",
       "      <td>-0.318711</td>\n",
       "    </tr>\n",
       "    <tr>\n",
       "      <th>French</th>\n",
       "      <td>0.810962</td>\n",
       "      <td>0.932504</td>\n",
       "      <td>1.000000</td>\n",
       "      <td>-0.069686</td>\n",
       "    </tr>\n",
       "    <tr>\n",
       "      <th>chemistry</th>\n",
       "      <td>-0.413303</td>\n",
       "      <td>-0.318711</td>\n",
       "      <td>-0.069686</td>\n",
       "      <td>1.000000</td>\n",
       "    </tr>\n",
       "  </tbody>\n",
       "</table>\n",
       "</div>"
      ],
      "text/plain": [
       "               Math   Physics    French  chemistry\n",
       "Math       1.000000  0.893256  0.810962  -0.413303\n",
       "Physics    0.893256  1.000000  0.932504  -0.318711\n",
       "French     0.810962  0.932504  1.000000  -0.069686\n",
       "chemistry -0.413303 -0.318711 -0.069686   1.000000"
      ]
     },
     "execution_count": 132,
     "metadata": {},
     "output_type": "execute_result"
    }
   ],
   "source": [
    "df.corr() # this value is between -1 and 1 "
   ]
  },
  {
   "cell_type": "code",
   "execution_count": 133,
   "id": "101c6e5f",
   "metadata": {},
   "outputs": [
    {
     "data": {
      "text/plain": [
       "Math         0.514539\n",
       "Physics     -0.693489\n",
       "French      -0.561746\n",
       "chemistry    0.308649\n",
       "dtype: float64"
      ]
     },
     "execution_count": 133,
     "metadata": {},
     "output_type": "execute_result"
    }
   ],
   "source": [
    "df.skew()  # مقدار انحراف الارقام عن بعضها البعض "
   ]
  },
  {
   "cell_type": "markdown",
   "id": "b5e43456",
   "metadata": {},
   "source": [
    "# How to add new columns with data from df:"
   ]
  },
  {
   "cell_type": "code",
   "execution_count": 136,
   "id": "ff098b13",
   "metadata": {},
   "outputs": [],
   "source": [
    "import numpy as np\n",
    "import pandas as pd"
   ]
  },
  {
   "cell_type": "code",
   "execution_count": 321,
   "id": "09aa22b1",
   "metadata": {},
   "outputs": [
    {
     "data": {
      "text/html": [
       "<div>\n",
       "<style scoped>\n",
       "    .dataframe tbody tr th:only-of-type {\n",
       "        vertical-align: middle;\n",
       "    }\n",
       "\n",
       "    .dataframe tbody tr th {\n",
       "        vertical-align: top;\n",
       "    }\n",
       "\n",
       "    .dataframe thead th {\n",
       "        text-align: right;\n",
       "    }\n",
       "</style>\n",
       "<table border=\"1\" class=\"dataframe\">\n",
       "  <thead>\n",
       "    <tr style=\"text-align: right;\">\n",
       "      <th></th>\n",
       "      <th>Arabic</th>\n",
       "      <th>Math</th>\n",
       "      <th>English</th>\n",
       "      <th>French</th>\n",
       "      <th>Physics</th>\n",
       "    </tr>\n",
       "  </thead>\n",
       "  <tbody>\n",
       "    <tr>\n",
       "      <th>0</th>\n",
       "      <td>57</td>\n",
       "      <td>50</td>\n",
       "      <td>65</td>\n",
       "      <td>93</td>\n",
       "      <td>79</td>\n",
       "    </tr>\n",
       "    <tr>\n",
       "      <th>1</th>\n",
       "      <td>75</td>\n",
       "      <td>56</td>\n",
       "      <td>83</td>\n",
       "      <td>68</td>\n",
       "      <td>96</td>\n",
       "    </tr>\n",
       "    <tr>\n",
       "      <th>2</th>\n",
       "      <td>63</td>\n",
       "      <td>51</td>\n",
       "      <td>66</td>\n",
       "      <td>94</td>\n",
       "      <td>61</td>\n",
       "    </tr>\n",
       "    <tr>\n",
       "      <th>3</th>\n",
       "      <td>96</td>\n",
       "      <td>59</td>\n",
       "      <td>75</td>\n",
       "      <td>66</td>\n",
       "      <td>75</td>\n",
       "    </tr>\n",
       "    <tr>\n",
       "      <th>4</th>\n",
       "      <td>71</td>\n",
       "      <td>71</td>\n",
       "      <td>76</td>\n",
       "      <td>75</td>\n",
       "      <td>98</td>\n",
       "    </tr>\n",
       "    <tr>\n",
       "      <th>...</th>\n",
       "      <td>...</td>\n",
       "      <td>...</td>\n",
       "      <td>...</td>\n",
       "      <td>...</td>\n",
       "      <td>...</td>\n",
       "    </tr>\n",
       "    <tr>\n",
       "      <th>95</th>\n",
       "      <td>91</td>\n",
       "      <td>51</td>\n",
       "      <td>87</td>\n",
       "      <td>50</td>\n",
       "      <td>92</td>\n",
       "    </tr>\n",
       "    <tr>\n",
       "      <th>96</th>\n",
       "      <td>90</td>\n",
       "      <td>64</td>\n",
       "      <td>87</td>\n",
       "      <td>75</td>\n",
       "      <td>88</td>\n",
       "    </tr>\n",
       "    <tr>\n",
       "      <th>97</th>\n",
       "      <td>98</td>\n",
       "      <td>54</td>\n",
       "      <td>94</td>\n",
       "      <td>64</td>\n",
       "      <td>56</td>\n",
       "    </tr>\n",
       "    <tr>\n",
       "      <th>98</th>\n",
       "      <td>95</td>\n",
       "      <td>64</td>\n",
       "      <td>99</td>\n",
       "      <td>50</td>\n",
       "      <td>72</td>\n",
       "    </tr>\n",
       "    <tr>\n",
       "      <th>99</th>\n",
       "      <td>98</td>\n",
       "      <td>58</td>\n",
       "      <td>65</td>\n",
       "      <td>81</td>\n",
       "      <td>87</td>\n",
       "    </tr>\n",
       "  </tbody>\n",
       "</table>\n",
       "<p>100 rows × 5 columns</p>\n",
       "</div>"
      ],
      "text/plain": [
       "    Arabic  Math  English  French  Physics\n",
       "0       57    50       65      93       79\n",
       "1       75    56       83      68       96\n",
       "2       63    51       66      94       61\n",
       "3       96    59       75      66       75\n",
       "4       71    71       76      75       98\n",
       "..     ...   ...      ...     ...      ...\n",
       "95      91    51       87      50       92\n",
       "96      90    64       87      75       88\n",
       "97      98    54       94      64       56\n",
       "98      95    64       99      50       72\n",
       "99      98    58       65      81       87\n",
       "\n",
       "[100 rows x 5 columns]"
      ]
     },
     "execution_count": 321,
     "metadata": {},
     "output_type": "execute_result"
    }
   ],
   "source": [
    "data = np.random.randint(50,100,size = 500).reshape(100,5)\n",
    "rows = np.arange(0,100)\n",
    "col = ['Arabic','Math','English','French','Physics']\n",
    "df = pd.DataFrame(data,index = rows , columns = col)\n",
    "df"
   ]
  },
  {
   "cell_type": "code",
   "execution_count": 322,
   "id": "186201ec",
   "metadata": {},
   "outputs": [
    {
     "data": {
      "text/html": [
       "<div>\n",
       "<style scoped>\n",
       "    .dataframe tbody tr th:only-of-type {\n",
       "        vertical-align: middle;\n",
       "    }\n",
       "\n",
       "    .dataframe tbody tr th {\n",
       "        vertical-align: top;\n",
       "    }\n",
       "\n",
       "    .dataframe thead th {\n",
       "        text-align: right;\n",
       "    }\n",
       "</style>\n",
       "<table border=\"1\" class=\"dataframe\">\n",
       "  <thead>\n",
       "    <tr style=\"text-align: right;\">\n",
       "      <th></th>\n",
       "      <th>Arabic</th>\n",
       "      <th>Math</th>\n",
       "      <th>English</th>\n",
       "      <th>French</th>\n",
       "      <th>Physics</th>\n",
       "      <th>Total</th>\n",
       "    </tr>\n",
       "  </thead>\n",
       "  <tbody>\n",
       "    <tr>\n",
       "      <th>0</th>\n",
       "      <td>57</td>\n",
       "      <td>50</td>\n",
       "      <td>65</td>\n",
       "      <td>93</td>\n",
       "      <td>79</td>\n",
       "      <td>344</td>\n",
       "    </tr>\n",
       "    <tr>\n",
       "      <th>1</th>\n",
       "      <td>75</td>\n",
       "      <td>56</td>\n",
       "      <td>83</td>\n",
       "      <td>68</td>\n",
       "      <td>96</td>\n",
       "      <td>378</td>\n",
       "    </tr>\n",
       "    <tr>\n",
       "      <th>2</th>\n",
       "      <td>63</td>\n",
       "      <td>51</td>\n",
       "      <td>66</td>\n",
       "      <td>94</td>\n",
       "      <td>61</td>\n",
       "      <td>335</td>\n",
       "    </tr>\n",
       "    <tr>\n",
       "      <th>3</th>\n",
       "      <td>96</td>\n",
       "      <td>59</td>\n",
       "      <td>75</td>\n",
       "      <td>66</td>\n",
       "      <td>75</td>\n",
       "      <td>371</td>\n",
       "    </tr>\n",
       "    <tr>\n",
       "      <th>4</th>\n",
       "      <td>71</td>\n",
       "      <td>71</td>\n",
       "      <td>76</td>\n",
       "      <td>75</td>\n",
       "      <td>98</td>\n",
       "      <td>391</td>\n",
       "    </tr>\n",
       "    <tr>\n",
       "      <th>...</th>\n",
       "      <td>...</td>\n",
       "      <td>...</td>\n",
       "      <td>...</td>\n",
       "      <td>...</td>\n",
       "      <td>...</td>\n",
       "      <td>...</td>\n",
       "    </tr>\n",
       "    <tr>\n",
       "      <th>95</th>\n",
       "      <td>91</td>\n",
       "      <td>51</td>\n",
       "      <td>87</td>\n",
       "      <td>50</td>\n",
       "      <td>92</td>\n",
       "      <td>371</td>\n",
       "    </tr>\n",
       "    <tr>\n",
       "      <th>96</th>\n",
       "      <td>90</td>\n",
       "      <td>64</td>\n",
       "      <td>87</td>\n",
       "      <td>75</td>\n",
       "      <td>88</td>\n",
       "      <td>404</td>\n",
       "    </tr>\n",
       "    <tr>\n",
       "      <th>97</th>\n",
       "      <td>98</td>\n",
       "      <td>54</td>\n",
       "      <td>94</td>\n",
       "      <td>64</td>\n",
       "      <td>56</td>\n",
       "      <td>366</td>\n",
       "    </tr>\n",
       "    <tr>\n",
       "      <th>98</th>\n",
       "      <td>95</td>\n",
       "      <td>64</td>\n",
       "      <td>99</td>\n",
       "      <td>50</td>\n",
       "      <td>72</td>\n",
       "      <td>380</td>\n",
       "    </tr>\n",
       "    <tr>\n",
       "      <th>99</th>\n",
       "      <td>98</td>\n",
       "      <td>58</td>\n",
       "      <td>65</td>\n",
       "      <td>81</td>\n",
       "      <td>87</td>\n",
       "      <td>389</td>\n",
       "    </tr>\n",
       "  </tbody>\n",
       "</table>\n",
       "<p>100 rows × 6 columns</p>\n",
       "</div>"
      ],
      "text/plain": [
       "    Arabic  Math  English  French  Physics  Total\n",
       "0       57    50       65      93       79    344\n",
       "1       75    56       83      68       96    378\n",
       "2       63    51       66      94       61    335\n",
       "3       96    59       75      66       75    371\n",
       "4       71    71       76      75       98    391\n",
       "..     ...   ...      ...     ...      ...    ...\n",
       "95      91    51       87      50       92    371\n",
       "96      90    64       87      75       88    404\n",
       "97      98    54       94      64       56    366\n",
       "98      95    64       99      50       72    380\n",
       "99      98    58       65      81       87    389\n",
       "\n",
       "[100 rows x 6 columns]"
      ]
     },
     "execution_count": 322,
     "metadata": {},
     "output_type": "execute_result"
    }
   ],
   "source": [
    "df['Total'] = df['Arabic'] + df['Math'] + df['English'] + df['French'] + df['Physics']\n",
    "df"
   ]
  },
  {
   "cell_type": "code",
   "execution_count": 323,
   "id": "630285f6",
   "metadata": {},
   "outputs": [
    {
     "data": {
      "text/html": [
       "<div>\n",
       "<style scoped>\n",
       "    .dataframe tbody tr th:only-of-type {\n",
       "        vertical-align: middle;\n",
       "    }\n",
       "\n",
       "    .dataframe tbody tr th {\n",
       "        vertical-align: top;\n",
       "    }\n",
       "\n",
       "    .dataframe thead th {\n",
       "        text-align: right;\n",
       "    }\n",
       "</style>\n",
       "<table border=\"1\" class=\"dataframe\">\n",
       "  <thead>\n",
       "    <tr style=\"text-align: right;\">\n",
       "      <th></th>\n",
       "      <th>Arabic</th>\n",
       "      <th>Math</th>\n",
       "      <th>English</th>\n",
       "      <th>French</th>\n",
       "      <th>Physics</th>\n",
       "      <th>Total</th>\n",
       "      <th>Percentage</th>\n",
       "    </tr>\n",
       "  </thead>\n",
       "  <tbody>\n",
       "    <tr>\n",
       "      <th>0</th>\n",
       "      <td>57</td>\n",
       "      <td>50</td>\n",
       "      <td>65</td>\n",
       "      <td>93</td>\n",
       "      <td>79</td>\n",
       "      <td>344</td>\n",
       "      <td>68.8</td>\n",
       "    </tr>\n",
       "    <tr>\n",
       "      <th>1</th>\n",
       "      <td>75</td>\n",
       "      <td>56</td>\n",
       "      <td>83</td>\n",
       "      <td>68</td>\n",
       "      <td>96</td>\n",
       "      <td>378</td>\n",
       "      <td>75.6</td>\n",
       "    </tr>\n",
       "    <tr>\n",
       "      <th>2</th>\n",
       "      <td>63</td>\n",
       "      <td>51</td>\n",
       "      <td>66</td>\n",
       "      <td>94</td>\n",
       "      <td>61</td>\n",
       "      <td>335</td>\n",
       "      <td>67.0</td>\n",
       "    </tr>\n",
       "    <tr>\n",
       "      <th>3</th>\n",
       "      <td>96</td>\n",
       "      <td>59</td>\n",
       "      <td>75</td>\n",
       "      <td>66</td>\n",
       "      <td>75</td>\n",
       "      <td>371</td>\n",
       "      <td>74.2</td>\n",
       "    </tr>\n",
       "    <tr>\n",
       "      <th>4</th>\n",
       "      <td>71</td>\n",
       "      <td>71</td>\n",
       "      <td>76</td>\n",
       "      <td>75</td>\n",
       "      <td>98</td>\n",
       "      <td>391</td>\n",
       "      <td>78.2</td>\n",
       "    </tr>\n",
       "    <tr>\n",
       "      <th>...</th>\n",
       "      <td>...</td>\n",
       "      <td>...</td>\n",
       "      <td>...</td>\n",
       "      <td>...</td>\n",
       "      <td>...</td>\n",
       "      <td>...</td>\n",
       "      <td>...</td>\n",
       "    </tr>\n",
       "    <tr>\n",
       "      <th>95</th>\n",
       "      <td>91</td>\n",
       "      <td>51</td>\n",
       "      <td>87</td>\n",
       "      <td>50</td>\n",
       "      <td>92</td>\n",
       "      <td>371</td>\n",
       "      <td>74.2</td>\n",
       "    </tr>\n",
       "    <tr>\n",
       "      <th>96</th>\n",
       "      <td>90</td>\n",
       "      <td>64</td>\n",
       "      <td>87</td>\n",
       "      <td>75</td>\n",
       "      <td>88</td>\n",
       "      <td>404</td>\n",
       "      <td>80.8</td>\n",
       "    </tr>\n",
       "    <tr>\n",
       "      <th>97</th>\n",
       "      <td>98</td>\n",
       "      <td>54</td>\n",
       "      <td>94</td>\n",
       "      <td>64</td>\n",
       "      <td>56</td>\n",
       "      <td>366</td>\n",
       "      <td>73.2</td>\n",
       "    </tr>\n",
       "    <tr>\n",
       "      <th>98</th>\n",
       "      <td>95</td>\n",
       "      <td>64</td>\n",
       "      <td>99</td>\n",
       "      <td>50</td>\n",
       "      <td>72</td>\n",
       "      <td>380</td>\n",
       "      <td>76.0</td>\n",
       "    </tr>\n",
       "    <tr>\n",
       "      <th>99</th>\n",
       "      <td>98</td>\n",
       "      <td>58</td>\n",
       "      <td>65</td>\n",
       "      <td>81</td>\n",
       "      <td>87</td>\n",
       "      <td>389</td>\n",
       "      <td>77.8</td>\n",
       "    </tr>\n",
       "  </tbody>\n",
       "</table>\n",
       "<p>100 rows × 7 columns</p>\n",
       "</div>"
      ],
      "text/plain": [
       "    Arabic  Math  English  French  Physics  Total  Percentage\n",
       "0       57    50       65      93       79    344        68.8\n",
       "1       75    56       83      68       96    378        75.6\n",
       "2       63    51       66      94       61    335        67.0\n",
       "3       96    59       75      66       75    371        74.2\n",
       "4       71    71       76      75       98    391        78.2\n",
       "..     ...   ...      ...     ...      ...    ...         ...\n",
       "95      91    51       87      50       92    371        74.2\n",
       "96      90    64       87      75       88    404        80.8\n",
       "97      98    54       94      64       56    366        73.2\n",
       "98      95    64       99      50       72    380        76.0\n",
       "99      98    58       65      81       87    389        77.8\n",
       "\n",
       "[100 rows x 7 columns]"
      ]
     },
     "execution_count": 323,
     "metadata": {},
     "output_type": "execute_result"
    }
   ],
   "source": [
    "df['Percentage'] = df[\"Total\"]/500*100\n",
    "df"
   ]
  },
  {
   "cell_type": "markdown",
   "id": "4587983e",
   "metadata": {},
   "source": [
    "### Some Queries :"
   ]
  },
  {
   "cell_type": "code",
   "execution_count": 324,
   "id": "937945df",
   "metadata": {},
   "outputs": [
    {
     "name": "stdout",
     "output_type": "stream",
     "text": [
      "    Arabic  Math  English  French  Physics  Total  Percentage\n",
      "0       57    50       65      93       79    344        68.8\n",
      "1       75    56       83      68       96    378        75.6\n",
      "2       63    51       66      94       61    335        67.0\n",
      "3       96    59       75      66       75    371        74.2\n",
      "4       71    71       76      75       98    391        78.2\n",
      "..     ...   ...      ...     ...      ...    ...         ...\n",
      "95      91    51       87      50       92    371        74.2\n",
      "96      90    64       87      75       88    404        80.8\n",
      "97      98    54       94      64       56    366        73.2\n",
      "98      95    64       99      50       72    380        76.0\n",
      "99      98    58       65      81       87    389        77.8\n",
      "\n",
      "[100 rows x 7 columns]\n"
     ]
    }
   ],
   "source": [
    "print(df.query('Total>250'))  # كله ناجح في الداتا دي علي فكره علشان كدا طلع ال 100 طالب "
   ]
  },
  {
   "cell_type": "code",
   "execution_count": 325,
   "id": "146e8ff2",
   "metadata": {},
   "outputs": [
    {
     "name": "stdout",
     "output_type": "stream",
     "text": [
      "    Arabic  Math  English  French  Physics  Total  Percentage\n",
      "14      90    93       92      60       98    433        86.6\n",
      "22      69    90       82      94       68    403        80.6\n",
      "24      99    91       85      77       95    447        89.4\n",
      "33      97    94       83      98       65    437        87.4\n",
      "39      92    94       87      62       80    415        83.0\n",
      "40      84    65       94      70       89    402        80.4\n",
      "43      78    96       56      85       98    413        82.6\n",
      "53      94    94       87      82       84    441        88.2\n",
      "55      81    97       77      92       93    440        88.0\n",
      "56      90    96       73      59       89    407        81.4\n",
      "57      97    85       77      78       90    427        85.4\n",
      "58      97    97       86      78       98    456        91.2\n",
      "60      92    96       76      93       74    431        86.2\n",
      "75      95    92       77      93       91    448        89.6\n",
      "79      73    94       74      84       86    411        82.2\n",
      "87      93    58       99      75       87    412        82.4\n",
      "96      90    64       87      75       88    404        80.8\n"
     ]
    }
   ],
   "source": [
    "print(df.query('Percentage>80'))"
   ]
  },
  {
   "cell_type": "code",
   "execution_count": 326,
   "id": "1284e312",
   "metadata": {},
   "outputs": [
    {
     "name": "stdout",
     "output_type": "stream",
     "text": [
      "Arabic        17\n",
      "Math          17\n",
      "English       17\n",
      "French        17\n",
      "Physics       17\n",
      "Total         17\n",
      "Percentage    17\n",
      "dtype: int64\n"
     ]
    }
   ],
   "source": [
    "print(df.query('Percentage>80').count())  # الطلاب اللي فوق ال80 في المئه هما 29 طالب بس  "
   ]
  },
  {
   "cell_type": "code",
   "execution_count": 327,
   "id": "4a773257",
   "metadata": {},
   "outputs": [
    {
     "name": "stdout",
     "output_type": "stream",
     "text": [
      "    Arabic  Math  English  French  Physics  Total  Percentage\n",
      "14      90    93       92      60       98    433        86.6\n",
      "24      99    91       85      77       95    447        89.4\n",
      "33      97    94       83      98       65    437        87.4\n",
      "53      94    94       87      82       84    441        88.2\n",
      "55      81    97       77      92       93    440        88.0\n",
      "58      97    97       86      78       98    456        91.2\n",
      "60      92    96       76      93       74    431        86.2\n",
      "75      95    92       77      93       91    448        89.6\n"
     ]
    }
   ],
   "source": [
    "print(df.query('Percentage>80 & Total > 430'))  # And"
   ]
  },
  {
   "cell_type": "code",
   "execution_count": 328,
   "id": "6777e216",
   "metadata": {},
   "outputs": [
    {
     "name": "stdout",
     "output_type": "stream",
     "text": [
      "    Arabic  Math  English  French  Physics  Total  Percentage\n",
      "14      90    93       92      60       98    433        86.6\n",
      "22      69    90       82      94       68    403        80.6\n",
      "24      99    91       85      77       95    447        89.4\n",
      "33      97    94       83      98       65    437        87.4\n",
      "39      92    94       87      62       80    415        83.0\n",
      "40      84    65       94      70       89    402        80.4\n",
      "43      78    96       56      85       98    413        82.6\n",
      "53      94    94       87      82       84    441        88.2\n",
      "55      81    97       77      92       93    440        88.0\n",
      "56      90    96       73      59       89    407        81.4\n",
      "57      97    85       77      78       90    427        85.4\n",
      "58      97    97       86      78       98    456        91.2\n",
      "60      92    96       76      93       74    431        86.2\n",
      "75      95    92       77      93       91    448        89.6\n",
      "79      73    94       74      84       86    411        82.2\n",
      "87      93    58       99      75       87    412        82.4\n",
      "96      90    64       87      75       88    404        80.8\n"
     ]
    }
   ],
   "source": [
    "print(df.query('Percentage>80 | Total > 430'))  # Or "
   ]
  },
  {
   "cell_type": "code",
   "execution_count": 329,
   "id": "fb556849",
   "metadata": {},
   "outputs": [
    {
     "data": {
      "text/html": [
       "<div>\n",
       "<style scoped>\n",
       "    .dataframe tbody tr th:only-of-type {\n",
       "        vertical-align: middle;\n",
       "    }\n",
       "\n",
       "    .dataframe tbody tr th {\n",
       "        vertical-align: top;\n",
       "    }\n",
       "\n",
       "    .dataframe thead th {\n",
       "        text-align: right;\n",
       "    }\n",
       "</style>\n",
       "<table border=\"1\" class=\"dataframe\">\n",
       "  <thead>\n",
       "    <tr style=\"text-align: right;\">\n",
       "      <th></th>\n",
       "      <th>Arabic</th>\n",
       "      <th>Math</th>\n",
       "      <th>English</th>\n",
       "      <th>French</th>\n",
       "      <th>Physics</th>\n",
       "      <th>Total</th>\n",
       "      <th>Percentage</th>\n",
       "    </tr>\n",
       "  </thead>\n",
       "  <tbody>\n",
       "    <tr>\n",
       "      <th>7</th>\n",
       "      <td>97</td>\n",
       "      <td>94</td>\n",
       "      <td>61</td>\n",
       "      <td>58</td>\n",
       "      <td>85</td>\n",
       "      <td>395</td>\n",
       "      <td>79.0</td>\n",
       "    </tr>\n",
       "    <tr>\n",
       "      <th>24</th>\n",
       "      <td>99</td>\n",
       "      <td>91</td>\n",
       "      <td>85</td>\n",
       "      <td>77</td>\n",
       "      <td>95</td>\n",
       "      <td>447</td>\n",
       "      <td>89.4</td>\n",
       "    </tr>\n",
       "    <tr>\n",
       "      <th>33</th>\n",
       "      <td>97</td>\n",
       "      <td>94</td>\n",
       "      <td>83</td>\n",
       "      <td>98</td>\n",
       "      <td>65</td>\n",
       "      <td>437</td>\n",
       "      <td>87.4</td>\n",
       "    </tr>\n",
       "    <tr>\n",
       "      <th>39</th>\n",
       "      <td>92</td>\n",
       "      <td>94</td>\n",
       "      <td>87</td>\n",
       "      <td>62</td>\n",
       "      <td>80</td>\n",
       "      <td>415</td>\n",
       "      <td>83.0</td>\n",
       "    </tr>\n",
       "    <tr>\n",
       "      <th>53</th>\n",
       "      <td>94</td>\n",
       "      <td>94</td>\n",
       "      <td>87</td>\n",
       "      <td>82</td>\n",
       "      <td>84</td>\n",
       "      <td>441</td>\n",
       "      <td>88.2</td>\n",
       "    </tr>\n",
       "    <tr>\n",
       "      <th>58</th>\n",
       "      <td>97</td>\n",
       "      <td>97</td>\n",
       "      <td>86</td>\n",
       "      <td>78</td>\n",
       "      <td>98</td>\n",
       "      <td>456</td>\n",
       "      <td>91.2</td>\n",
       "    </tr>\n",
       "    <tr>\n",
       "      <th>60</th>\n",
       "      <td>92</td>\n",
       "      <td>96</td>\n",
       "      <td>76</td>\n",
       "      <td>93</td>\n",
       "      <td>74</td>\n",
       "      <td>431</td>\n",
       "      <td>86.2</td>\n",
       "    </tr>\n",
       "    <tr>\n",
       "      <th>75</th>\n",
       "      <td>95</td>\n",
       "      <td>92</td>\n",
       "      <td>77</td>\n",
       "      <td>93</td>\n",
       "      <td>91</td>\n",
       "      <td>448</td>\n",
       "      <td>89.6</td>\n",
       "    </tr>\n",
       "  </tbody>\n",
       "</table>\n",
       "</div>"
      ],
      "text/plain": [
       "    Arabic  Math  English  French  Physics  Total  Percentage\n",
       "7       97    94       61      58       85    395        79.0\n",
       "24      99    91       85      77       95    447        89.4\n",
       "33      97    94       83      98       65    437        87.4\n",
       "39      92    94       87      62       80    415        83.0\n",
       "53      94    94       87      82       84    441        88.2\n",
       "58      97    97       86      78       98    456        91.2\n",
       "60      92    96       76      93       74    431        86.2\n",
       "75      95    92       77      93       91    448        89.6"
      ]
     },
     "execution_count": 329,
     "metadata": {},
     "output_type": "execute_result"
    }
   ],
   "source": [
    "df[(df.Arabic>90)&(df.Math>90)]  # الاوائل في الماث و العربي "
   ]
  },
  {
   "cell_type": "code",
   "execution_count": 330,
   "id": "4db34b73",
   "metadata": {},
   "outputs": [
    {
     "data": {
      "text/html": [
       "<div>\n",
       "<style scoped>\n",
       "    .dataframe tbody tr th:only-of-type {\n",
       "        vertical-align: middle;\n",
       "    }\n",
       "\n",
       "    .dataframe tbody tr th {\n",
       "        vertical-align: top;\n",
       "    }\n",
       "\n",
       "    .dataframe thead th {\n",
       "        text-align: right;\n",
       "    }\n",
       "</style>\n",
       "<table border=\"1\" class=\"dataframe\">\n",
       "  <thead>\n",
       "    <tr style=\"text-align: right;\">\n",
       "      <th></th>\n",
       "      <th>Arabic</th>\n",
       "      <th>Math</th>\n",
       "      <th>English</th>\n",
       "      <th>French</th>\n",
       "      <th>Physics</th>\n",
       "      <th>Total</th>\n",
       "      <th>Percentage</th>\n",
       "    </tr>\n",
       "  </thead>\n",
       "  <tbody>\n",
       "    <tr>\n",
       "      <th>24</th>\n",
       "      <td>99</td>\n",
       "      <td>91</td>\n",
       "      <td>85</td>\n",
       "      <td>77</td>\n",
       "      <td>95</td>\n",
       "      <td>447</td>\n",
       "      <td>89.4</td>\n",
       "    </tr>\n",
       "    <tr>\n",
       "      <th>53</th>\n",
       "      <td>94</td>\n",
       "      <td>94</td>\n",
       "      <td>87</td>\n",
       "      <td>82</td>\n",
       "      <td>84</td>\n",
       "      <td>441</td>\n",
       "      <td>88.2</td>\n",
       "    </tr>\n",
       "    <tr>\n",
       "      <th>57</th>\n",
       "      <td>97</td>\n",
       "      <td>85</td>\n",
       "      <td>77</td>\n",
       "      <td>78</td>\n",
       "      <td>90</td>\n",
       "      <td>427</td>\n",
       "      <td>85.4</td>\n",
       "    </tr>\n",
       "    <tr>\n",
       "      <th>58</th>\n",
       "      <td>97</td>\n",
       "      <td>97</td>\n",
       "      <td>86</td>\n",
       "      <td>78</td>\n",
       "      <td>98</td>\n",
       "      <td>456</td>\n",
       "      <td>91.2</td>\n",
       "    </tr>\n",
       "    <tr>\n",
       "      <th>60</th>\n",
       "      <td>92</td>\n",
       "      <td>96</td>\n",
       "      <td>76</td>\n",
       "      <td>93</td>\n",
       "      <td>74</td>\n",
       "      <td>431</td>\n",
       "      <td>86.2</td>\n",
       "    </tr>\n",
       "    <tr>\n",
       "      <th>75</th>\n",
       "      <td>95</td>\n",
       "      <td>92</td>\n",
       "      <td>77</td>\n",
       "      <td>93</td>\n",
       "      <td>91</td>\n",
       "      <td>448</td>\n",
       "      <td>89.6</td>\n",
       "    </tr>\n",
       "  </tbody>\n",
       "</table>\n",
       "</div>"
      ],
      "text/plain": [
       "    Arabic  Math  English  French  Physics  Total  Percentage\n",
       "24      99    91       85      77       95    447        89.4\n",
       "53      94    94       87      82       84    441        88.2\n",
       "57      97    85       77      78       90    427        85.4\n",
       "58      97    97       86      78       98    456        91.2\n",
       "60      92    96       76      93       74    431        86.2\n",
       "75      95    92       77      93       91    448        89.6"
      ]
     },
     "execution_count": 330,
     "metadata": {},
     "output_type": "execute_result"
    }
   ],
   "source": [
    "df[(df.Arabic>90)&(df.Math>70)&(df.English>70)&(df.French>70)&(df.Physics>70)] # شروط ياما اوي اهي اباااي"
   ]
  },
  {
   "cell_type": "markdown",
   "id": "659a22c9",
   "metadata": {},
   "source": [
    "# To save dataframe:"
   ]
  },
  {
   "cell_type": "code",
   "execution_count": 332,
   "id": "b34245f9",
   "metadata": {},
   "outputs": [],
   "source": [
    "df.to_csv('D:\\\\Learn\\\\Hesham Asem\\\\Python-C\\\\Pandas\\\\StudentData.csv')"
   ]
  },
  {
   "cell_type": "markdown",
   "id": "1c36c622",
   "metadata": {},
   "source": [
    "# To merge Two tables:"
   ]
  },
  {
   "cell_type": "code",
   "execution_count": 194,
   "id": "7f0bc4f4",
   "metadata": {},
   "outputs": [
    {
     "name": "stdout",
     "output_type": "stream",
     "text": [
      "  Employee        Group\n",
      "0    Ahmed           HR\n",
      "1   Elsawy   Accounting\n",
      "2   Shekoo  Engineering\n",
      "3    Boody  Translating\n",
      "4     Nosa   Accounting\n",
      "*******************************\n",
      "  Employee  Salary  Brithdate\n",
      "0    Ahmed   20000       2001\n",
      "1   Elsawy   30000       2001\n",
      "2   Shekoo   50000       2000\n",
      "3    Boody   25000       1999\n",
      "4     Nosa   60000       2003\n",
      "*******************************\n",
      "  Employee        Group  Salary  Brithdate\n",
      "0    Ahmed           HR   20000       2001\n",
      "1   Elsawy   Accounting   30000       2001\n",
      "2   Shekoo  Engineering   50000       2000\n",
      "3    Boody  Translating   25000       1999\n",
      "4     Nosa   Accounting   60000       2003\n"
     ]
    }
   ],
   "source": [
    "employee = ['Ahmed','Elsawy','Shekoo','Boody','Nosa']\n",
    "group = ['HR', 'Accounting','Engineering','Translating','Accounting']\n",
    "df1 = pd.DataFrame({'Employee': employee ,'Group':group})\n",
    "print(df1)\n",
    "print(\"*******************************\")\n",
    "salary = [20000,30000,50000,25000,60000]\n",
    "brith = [2001,2001,2000,1999,2003]\n",
    "df2 = pd.DataFrame({'Employee': employee ,'Salary':salary ,'Brithdate':brith})\n",
    "print(df2)\n",
    "print(\"*******************************\")\n",
    "data = pd.merge(df1,df2)  # لو هتكتبها كدا لازم يكون في عمود مشترك في الجدولين لازم لازم الا لو هتحدد نوع العلاقة\n",
    "print(data)"
   ]
  },
  {
   "cell_type": "code",
   "execution_count": 202,
   "id": "da86ee08",
   "metadata": {},
   "outputs": [
    {
     "name": "stdout",
     "output_type": "stream",
     "text": [
      "    Name   Food\n",
      "0  ahmed   fash\n",
      "1  sheko   meet\n",
      "2  boody   rice\n",
      "3   foma  suger\n",
      "***********************\n",
      "    Name   Food  Drink\n",
      "0  ahmed   fash  pepsi\n",
      "1  sheko   meet   coca\n",
      "2  boody   rice    tea\n",
      "3   foma  suger  water\n"
     ]
    }
   ],
   "source": [
    "name = ['ahmed','sheko','boody','foma']\n",
    "food =['fash','meet','rice','suger']\n",
    "df1=pd.DataFrame({'Name':name,'Food':food})\n",
    "print(df1)\n",
    "print(\"***********************\")\n",
    "name = ['ahmed','sheko','boody','foma']\n",
    "drink = ['pepsi','coca','tea','water']\n",
    "df2=pd.DataFrame({'Name':name,'Drink':drink})\n",
    "print(pd.merge(df1,df2))"
   ]
  },
  {
   "cell_type": "code",
   "execution_count": 207,
   "id": "fdb0c6ef",
   "metadata": {},
   "outputs": [
    {
     "name": "stdout",
     "output_type": "stream",
     "text": [
      "    Name   Food\n",
      "0  ahmed   fash\n",
      "1  sheko   meet\n",
      "2   nana   rice\n",
      "3   foma  suger\n",
      "***********************\n",
      "    Name  Food  Drink\n",
      "0  ahmed  fash  pepsi\n",
      "1  sheko  meet       \n"
     ]
    }
   ],
   "source": [
    "name = ['ahmed','sheko','nana','foma']\n",
    "food =['fash','meet','rice','suger']\n",
    "df1=pd.DataFrame({'Name':name,'Food':food})\n",
    "print(df1)\n",
    "print(\"***********************\")\n",
    "name = ['ahmed','sheko','boody','soso']\n",
    "drink = ['pepsi','','','coca']\n",
    "df2=pd.DataFrame({'Name':name,'Drink':drink})\n",
    "print(pd.merge(df1,df2,how = 'inner'))  # جاب المشترك بس ما بين الجدولين بس بس بس "
   ]
  },
  {
   "cell_type": "code",
   "execution_count": 209,
   "id": "85dfd259",
   "metadata": {},
   "outputs": [
    {
     "name": "stdout",
     "output_type": "stream",
     "text": [
      "    Name   Food\n",
      "0  ahmed   fash\n",
      "1  sheko   meet\n",
      "2   nana   rice\n",
      "3   foma  suger\n",
      "***********************\n",
      "    Name   Food  Drink\n",
      "0  ahmed   fash  pepsi\n",
      "1  sheko   meet  water\n",
      "2   nana   rice    NaN\n",
      "3   foma  suger    NaN\n",
      "4  boody    NaN    tea\n",
      "5   soso    NaN   coca\n"
     ]
    }
   ],
   "source": [
    "name = ['ahmed','sheko','nana','foma']\n",
    "food =['fash','meet','rice','suger']\n",
    "df1=pd.DataFrame({'Name':name,'Food':food})\n",
    "print(df1)\n",
    "print(\"***********************\")\n",
    "name = ['ahmed','sheko','boody','soso']\n",
    "drink = ['pepsi','water','tea','coca']\n",
    "df2=pd.DataFrame({'Name':name,'Drink':drink})\n",
    "print(pd.merge(df1,df2,how = 'outer'))   # جاب كله يا زميلي كله اللي في الجدولين "
   ]
  },
  {
   "cell_type": "code",
   "execution_count": 210,
   "id": "af844b4b",
   "metadata": {},
   "outputs": [
    {
     "name": "stdout",
     "output_type": "stream",
     "text": [
      "    Name   Food\n",
      "0  ahmed   fash\n",
      "1  sheko   meet\n",
      "2   nana   rice\n",
      "3   foma  suger\n",
      "***********************\n",
      "    Name  Food  Drink\n",
      "0  ahmed  fash  pepsi\n",
      "1  sheko  meet  water\n",
      "2  boody   NaN    tea\n",
      "3   soso   NaN   coca\n"
     ]
    }
   ],
   "source": [
    "name = ['ahmed','sheko','nana','foma']\n",
    "food =['fash','meet','rice','suger']\n",
    "df1=pd.DataFrame({'Name':name,'Food':food})\n",
    "print(df1)\n",
    "print(\"***********************\")\n",
    "name = ['ahmed','sheko','boody','soso']\n",
    "drink = ['pepsi','water','tea','coca']\n",
    "df2=pd.DataFrame({'Name':name,'Drink':drink})\n",
    "print(pd.merge(df1,df2,how = 'right'))   #  جاب الجدول اللي علي اليمين اللي هو داتا فريم اتنين بس"
   ]
  },
  {
   "cell_type": "code",
   "execution_count": 211,
   "id": "15331d3a",
   "metadata": {},
   "outputs": [
    {
     "name": "stdout",
     "output_type": "stream",
     "text": [
      "    Name   Food\n",
      "0  ahmed   fash\n",
      "1  sheko   meet\n",
      "2   nana   rice\n",
      "3   foma  suger\n",
      "***********************\n",
      "    Name   Food  Drink\n",
      "0  ahmed   fash  pepsi\n",
      "1  sheko   meet  water\n",
      "2   nana   rice    NaN\n",
      "3   foma  suger    NaN\n"
     ]
    }
   ],
   "source": [
    "name = ['ahmed','sheko','nana','foma']\n",
    "food =['fash','meet','rice','suger']\n",
    "df1=pd.DataFrame({'Name':name,'Food':food})\n",
    "print(df1)\n",
    "print(\"***********************\")\n",
    "name = ['ahmed','sheko','boody','soso']\n",
    "drink = ['pepsi','water','tea','coca']\n",
    "df2=pd.DataFrame({'Name':name,'Drink':drink})\n",
    "print(pd.merge(df1,df2,how = 'left'))   # جاب الجدول اللي علي الشمال هو الداتا فريم واحد بس"
   ]
  },
  {
   "cell_type": "code",
   "execution_count": 212,
   "id": "606a7df2",
   "metadata": {},
   "outputs": [
    {
     "name": "stdout",
     "output_type": "stream",
     "text": [
      "  Employee        Group\n",
      "0    Ahmed           HR\n",
      "1   Elsawy   Accounting\n",
      "2   Shekoo  Engineering\n",
      "3    Boody  Translating\n",
      "4     Nosa   Accounting\n",
      "*******************************\n",
      "  Employee  Salary  Brithdate\n",
      "0    Ahmed   20000       2001\n",
      "1   Elsawy   30000       2001\n",
      "2   Shekoo   50000       2000\n",
      "3    Boody   25000       1999\n",
      "4     Nosa   60000       2003\n",
      "*******************************\n",
      "  Employee        Group  Salary  Brithdate\n",
      "0    Ahmed           HR   20000       2001\n",
      "1   Elsawy   Accounting   30000       2001\n",
      "2   Shekoo  Engineering   50000       2000\n",
      "3    Boody  Translating   25000       1999\n",
      "4     Nosa   Accounting   60000       2003\n"
     ]
    }
   ],
   "source": [
    "employee = ['Ahmed','Elsawy','Shekoo','Boody','Nosa']\n",
    "group = ['HR', 'Accounting','Engineering','Translating','Accounting']\n",
    "df1 = pd.DataFrame({'Employee': employee ,'Group':group})\n",
    "print(df1)\n",
    "print(\"*******************************\")\n",
    "salary = [20000,30000,50000,25000,60000]\n",
    "brith = [2001,2001,2000,1999,2003]\n",
    "df2 = pd.DataFrame({'Employee': employee ,'Salary':salary ,'Brithdate':brith})\n",
    "print(df2)\n",
    "print(\"*******************************\")\n",
    "data = pd.merge(df1,df2)  # لو هتكتبها كدا لازم يكون في عمود مشترك في الجدولين لازم لازم الا لو هتحدد نوع العلاقة\n",
    "print(data)"
   ]
  },
  {
   "cell_type": "code",
   "execution_count": 223,
   "id": "697ad6ec",
   "metadata": {},
   "outputs": [
    {
     "data": {
      "text/html": [
       "<div>\n",
       "<style scoped>\n",
       "    .dataframe tbody tr th:only-of-type {\n",
       "        vertical-align: middle;\n",
       "    }\n",
       "\n",
       "    .dataframe tbody tr th {\n",
       "        vertical-align: top;\n",
       "    }\n",
       "\n",
       "    .dataframe thead th {\n",
       "        text-align: right;\n",
       "    }\n",
       "</style>\n",
       "<table border=\"1\" class=\"dataframe\">\n",
       "  <thead>\n",
       "    <tr style=\"text-align: right;\">\n",
       "      <th></th>\n",
       "      <th>Brithdate</th>\n",
       "    </tr>\n",
       "    <tr>\n",
       "      <th>Salary</th>\n",
       "      <th></th>\n",
       "    </tr>\n",
       "  </thead>\n",
       "  <tbody>\n",
       "    <tr>\n",
       "      <th>20000</th>\n",
       "      <td>2001</td>\n",
       "    </tr>\n",
       "    <tr>\n",
       "      <th>25000</th>\n",
       "      <td>1999</td>\n",
       "    </tr>\n",
       "    <tr>\n",
       "      <th>30000</th>\n",
       "      <td>2001</td>\n",
       "    </tr>\n",
       "    <tr>\n",
       "      <th>50000</th>\n",
       "      <td>2000</td>\n",
       "    </tr>\n",
       "    <tr>\n",
       "      <th>60000</th>\n",
       "      <td>2003</td>\n",
       "    </tr>\n",
       "  </tbody>\n",
       "</table>\n",
       "</div>"
      ],
      "text/plain": [
       "        Brithdate\n",
       "Salary           \n",
       "20000        2001\n",
       "25000        1999\n",
       "30000        2001\n",
       "50000        2000\n",
       "60000        2003"
      ]
     },
     "execution_count": 223,
     "metadata": {},
     "output_type": "execute_result"
    }
   ],
   "source": [
    "data.groupby('Salary').sum()"
   ]
  },
  {
   "cell_type": "code",
   "execution_count": 225,
   "id": "ee2f39b7",
   "metadata": {},
   "outputs": [
    {
     "data": {
      "text/plain": [
       "           Salary\n",
       "Brithdate  20000     2001\n",
       "           25000     1999\n",
       "           30000     2001\n",
       "           50000     2000\n",
       "           60000     2003\n",
       "dtype: int64"
      ]
     },
     "execution_count": 225,
     "metadata": {},
     "output_type": "execute_result"
    }
   ],
   "source": [
    "data.groupby('Salary').sum().unstack()"
   ]
  },
  {
   "cell_type": "code",
   "execution_count": 229,
   "id": "ad7885e4",
   "metadata": {},
   "outputs": [
    {
     "name": "stdout",
     "output_type": "stream",
     "text": [
      "  Key  data1  data2\n",
      "0   A      0      7\n",
      "1   B      1      8\n",
      "2   C      2      1\n",
      "3   A      3      5\n",
      "4   B      4      3\n",
      "5   C      5      9\n",
      "************************\n",
      "     data1  data2\n",
      "Key              \n",
      "A        0      7\n",
      "B        1      8\n",
      "C        2      9\n",
      "************************\n",
      "     data1  data2\n",
      "Key              \n",
      "A        3      5\n",
      "B        4      3\n",
      "C        5      1\n"
     ]
    }
   ],
   "source": [
    "df = pd.DataFrame({'Key':['A','B','C','A','B','C'],\n",
    "                  'data1':range(6), \n",
    "                 'data2': np.random.randint(0,10,6)} , columns = ['Key',\"data1\",'data2'])\n",
    "print(df)\n",
    "print('************************')\n",
    "df2 = df.groupby('Key').aggregate({'data1':'min','data2':'max'})  \n",
    "#  اشمعني هنا اختار ال كي هو اللي يستخدم في الجروب باي لان ال كي مميز نقدر نميز منه اسماء العناصر الموجوده في البيانات\n",
    "print(df2)\n",
    "print('************************')\n",
    "df3 = df.groupby('Key').aggregate({'data1':'max','data2':'min'})\n",
    "print(df3)"
   ]
  },
  {
   "cell_type": "markdown",
   "id": "2dbde6e0",
   "metadata": {},
   "source": [
    "# Multi Index :"
   ]
  },
  {
   "cell_type": "code",
   "execution_count": 243,
   "id": "0f634cd6",
   "metadata": {},
   "outputs": [],
   "source": [
    "import pandas as pd\n",
    "import numpy as np"
   ]
  },
  {
   "cell_type": "code",
   "execution_count": 238,
   "id": "2532a9cd",
   "metadata": {},
   "outputs": [
    {
     "data": {
      "text/plain": [
       "california  2000    20000\n",
       "            2010    25000\n",
       "New York    2000    30000\n",
       "            2000    35000\n",
       "Texas       2000    40000\n",
       "            2010    45000\n",
       "dtype: int64"
      ]
     },
     "execution_count": 238,
     "metadata": {},
     "output_type": "execute_result"
    }
   ],
   "source": [
    "index = [('california',2000),('california',2010),\n",
    "        ('New York',2000),('New York',2000),\n",
    "        ('Texas',2000),('Texas',2010)]\n",
    "populations = [20000,25000,30000,35000,40000,45000]\n",
    "index = pd.MultiIndex.from_tuples(index)\n",
    "pop = pd.Series(populations,index = index)\n",
    "pop"
   ]
  },
  {
   "cell_type": "markdown",
   "id": "19ba5086",
   "metadata": {},
   "source": [
    "# To add new columns with new informations :"
   ]
  },
  {
   "cell_type": "code",
   "execution_count": 239,
   "id": "88aa2cc7",
   "metadata": {},
   "outputs": [
    {
     "data": {
      "text/html": [
       "<div>\n",
       "<style scoped>\n",
       "    .dataframe tbody tr th:only-of-type {\n",
       "        vertical-align: middle;\n",
       "    }\n",
       "\n",
       "    .dataframe tbody tr th {\n",
       "        vertical-align: top;\n",
       "    }\n",
       "\n",
       "    .dataframe thead th {\n",
       "        text-align: right;\n",
       "    }\n",
       "</style>\n",
       "<table border=\"1\" class=\"dataframe\">\n",
       "  <thead>\n",
       "    <tr style=\"text-align: right;\">\n",
       "      <th></th>\n",
       "      <th></th>\n",
       "      <th>Total</th>\n",
       "      <th>Under18</th>\n",
       "    </tr>\n",
       "  </thead>\n",
       "  <tbody>\n",
       "    <tr>\n",
       "      <th rowspan=\"2\" valign=\"top\">california</th>\n",
       "      <th>2000</th>\n",
       "      <td>20000</td>\n",
       "      <td>15000</td>\n",
       "    </tr>\n",
       "    <tr>\n",
       "      <th>2010</th>\n",
       "      <td>25000</td>\n",
       "      <td>20000</td>\n",
       "    </tr>\n",
       "    <tr>\n",
       "      <th rowspan=\"2\" valign=\"top\">New York</th>\n",
       "      <th>2000</th>\n",
       "      <td>30000</td>\n",
       "      <td>25000</td>\n",
       "    </tr>\n",
       "    <tr>\n",
       "      <th>2000</th>\n",
       "      <td>35000</td>\n",
       "      <td>30000</td>\n",
       "    </tr>\n",
       "    <tr>\n",
       "      <th rowspan=\"2\" valign=\"top\">Texas</th>\n",
       "      <th>2000</th>\n",
       "      <td>40000</td>\n",
       "      <td>35000</td>\n",
       "    </tr>\n",
       "    <tr>\n",
       "      <th>2010</th>\n",
       "      <td>45000</td>\n",
       "      <td>40000</td>\n",
       "    </tr>\n",
       "  </tbody>\n",
       "</table>\n",
       "</div>"
      ],
      "text/plain": [
       "                 Total  Under18\n",
       "california 2000  20000    15000\n",
       "           2010  25000    20000\n",
       "New York   2000  30000    25000\n",
       "           2000  35000    30000\n",
       "Texas      2000  40000    35000\n",
       "           2010  45000    40000"
      ]
     },
     "execution_count": 239,
     "metadata": {},
     "output_type": "execute_result"
    }
   ],
   "source": [
    "x = [15000,20000,25000,30000,35000,40000]\n",
    "pop_df = pd.DataFrame({'Total':pop,'Under18':x})\n",
    "pop_df"
   ]
  },
  {
   "cell_type": "markdown",
   "id": "dbec3c9e",
   "metadata": {},
   "source": [
    "# other methods to create multi index tuples :"
   ]
  },
  {
   "cell_type": "code",
   "execution_count": 250,
   "id": "1cbf9d9b",
   "metadata": {},
   "outputs": [
    {
     "data": {
      "text/html": [
       "<div>\n",
       "<style scoped>\n",
       "    .dataframe tbody tr th:only-of-type {\n",
       "        vertical-align: middle;\n",
       "    }\n",
       "\n",
       "    .dataframe tbody tr th {\n",
       "        vertical-align: top;\n",
       "    }\n",
       "\n",
       "    .dataframe thead th {\n",
       "        text-align: right;\n",
       "    }\n",
       "</style>\n",
       "<table border=\"1\" class=\"dataframe\">\n",
       "  <thead>\n",
       "    <tr style=\"text-align: right;\">\n",
       "      <th></th>\n",
       "      <th></th>\n",
       "      <th>income</th>\n",
       "      <th>profit</th>\n",
       "    </tr>\n",
       "  </thead>\n",
       "  <tbody>\n",
       "    <tr>\n",
       "      <th>a</th>\n",
       "      <th>1</th>\n",
       "      <td>0.601195</td>\n",
       "      <td>0.930509</td>\n",
       "    </tr>\n",
       "    <tr>\n",
       "      <th>b</th>\n",
       "      <th>2</th>\n",
       "      <td>0.248550</td>\n",
       "      <td>0.040344</td>\n",
       "    </tr>\n",
       "    <tr>\n",
       "      <th>a</th>\n",
       "      <th>1</th>\n",
       "      <td>0.853388</td>\n",
       "      <td>0.594650</td>\n",
       "    </tr>\n",
       "    <tr>\n",
       "      <th>b</th>\n",
       "      <th>2</th>\n",
       "      <td>0.724701</td>\n",
       "      <td>0.442126</td>\n",
       "    </tr>\n",
       "  </tbody>\n",
       "</table>\n",
       "</div>"
      ],
      "text/plain": [
       "       income    profit\n",
       "a 1  0.601195  0.930509\n",
       "b 2  0.248550  0.040344\n",
       "a 1  0.853388  0.594650\n",
       "b 2  0.724701  0.442126"
      ]
     },
     "execution_count": 250,
     "metadata": {},
     "output_type": "execute_result"
    }
   ],
   "source": [
    "data = pd.DataFrame(np.random.rand(4,2),index = [['a','b','a','b'],[1,2,1,2]],\n",
    "                    columns = ['income','profit']) \n",
    "data"
   ]
  },
  {
   "cell_type": "code",
   "execution_count": 253,
   "id": "6f5efa99",
   "metadata": {},
   "outputs": [
    {
     "data": {
      "text/plain": [
       "california  2000    10000\n",
       "            2010    15000\n",
       "New York    2000    20000\n",
       "            2010    25000\n",
       "Texas       2000    30000\n",
       "            2010    35000\n",
       "dtype: int64"
      ]
     },
     "execution_count": 253,
     "metadata": {},
     "output_type": "execute_result"
    }
   ],
   "source": [
    "data = {('california',2000):10000,('california',2010):15000,\n",
    "         ('New York',2000):20000,('New York',2010):25000,\n",
    "        ('Texas',2000):30000,('Texas',2010):35000}\n",
    "df = pd.Series(data)\n",
    "df"
   ]
  },
  {
   "cell_type": "code",
   "execution_count": 257,
   "id": "2d3a9044",
   "metadata": {},
   "outputs": [
    {
     "data": {
      "text/html": [
       "<div>\n",
       "<style scoped>\n",
       "    .dataframe tbody tr th:only-of-type {\n",
       "        vertical-align: middle;\n",
       "    }\n",
       "\n",
       "    .dataframe tbody tr th {\n",
       "        vertical-align: top;\n",
       "    }\n",
       "\n",
       "    .dataframe thead tr th {\n",
       "        text-align: left;\n",
       "    }\n",
       "\n",
       "    .dataframe thead tr:last-of-type th {\n",
       "        text-align: right;\n",
       "    }\n",
       "</style>\n",
       "<table border=\"1\" class=\"dataframe\">\n",
       "  <thead>\n",
       "    <tr>\n",
       "      <th></th>\n",
       "      <th>Subject</th>\n",
       "      <th colspan=\"2\" halign=\"left\">Bob</th>\n",
       "      <th colspan=\"2\" halign=\"left\">Giudo</th>\n",
       "      <th colspan=\"2\" halign=\"left\">Sue</th>\n",
       "    </tr>\n",
       "    <tr>\n",
       "      <th></th>\n",
       "      <th>type</th>\n",
       "      <th>HR</th>\n",
       "      <th>Temp</th>\n",
       "      <th>HR</th>\n",
       "      <th>Temp</th>\n",
       "      <th>HR</th>\n",
       "      <th>Temp</th>\n",
       "    </tr>\n",
       "    <tr>\n",
       "      <th>year</th>\n",
       "      <th>visit</th>\n",
       "      <th></th>\n",
       "      <th></th>\n",
       "      <th></th>\n",
       "      <th></th>\n",
       "      <th></th>\n",
       "      <th></th>\n",
       "    </tr>\n",
       "  </thead>\n",
       "  <tbody>\n",
       "    <tr>\n",
       "      <th rowspan=\"2\" valign=\"top\">2013</th>\n",
       "      <th>1</th>\n",
       "      <td>-0.0</td>\n",
       "      <td>1.0</td>\n",
       "      <td>-1.0</td>\n",
       "      <td>-1.0</td>\n",
       "      <td>-1.0</td>\n",
       "      <td>0.0</td>\n",
       "    </tr>\n",
       "    <tr>\n",
       "      <th>2</th>\n",
       "      <td>-1.0</td>\n",
       "      <td>-1.0</td>\n",
       "      <td>-1.0</td>\n",
       "      <td>-1.0</td>\n",
       "      <td>1.0</td>\n",
       "      <td>-1.0</td>\n",
       "    </tr>\n",
       "    <tr>\n",
       "      <th rowspan=\"2\" valign=\"top\">2014</th>\n",
       "      <th>1</th>\n",
       "      <td>-0.0</td>\n",
       "      <td>0.0</td>\n",
       "      <td>2.0</td>\n",
       "      <td>0.0</td>\n",
       "      <td>0.0</td>\n",
       "      <td>1.0</td>\n",
       "    </tr>\n",
       "    <tr>\n",
       "      <th>2</th>\n",
       "      <td>0.0</td>\n",
       "      <td>2.0</td>\n",
       "      <td>1.0</td>\n",
       "      <td>-0.0</td>\n",
       "      <td>-0.0</td>\n",
       "      <td>2.0</td>\n",
       "    </tr>\n",
       "  </tbody>\n",
       "</table>\n",
       "</div>"
      ],
      "text/plain": [
       "Subject     Bob      Giudo       Sue     \n",
       "type         HR Temp    HR Temp   HR Temp\n",
       "year visit                               \n",
       "2013 1     -0.0  1.0  -1.0 -1.0 -1.0  0.0\n",
       "     2     -1.0 -1.0  -1.0 -1.0  1.0 -1.0\n",
       "2014 1     -0.0  0.0   2.0  0.0  0.0  1.0\n",
       "     2      0.0  2.0   1.0 -0.0 -0.0  2.0"
      ]
     },
     "execution_count": 257,
     "metadata": {},
     "output_type": "execute_result"
    }
   ],
   "source": [
    "index = pd.MultiIndex.from_product([[2013,2014],[1,2]],names = ['year','visit'])\n",
    "columns = pd.MultiIndex.from_product([['Bob','Giudo','Sue'],['HR','Temp']],names = ['Subject','type'])\n",
    "data = np.round(np.random.randn(4,6))\n",
    "h_data = pd.DataFrame(data,index = index ,columns = columns)\n",
    "h_data"
   ]
  },
  {
   "cell_type": "code",
   "execution_count": 260,
   "id": "1a8d0dd5",
   "metadata": {},
   "outputs": [
    {
     "data": {
      "text/html": [
       "<div>\n",
       "<style scoped>\n",
       "    .dataframe tbody tr th:only-of-type {\n",
       "        vertical-align: middle;\n",
       "    }\n",
       "\n",
       "    .dataframe tbody tr th {\n",
       "        vertical-align: top;\n",
       "    }\n",
       "\n",
       "    .dataframe thead tr th {\n",
       "        text-align: left;\n",
       "    }\n",
       "\n",
       "    .dataframe thead tr:last-of-type th {\n",
       "        text-align: right;\n",
       "    }\n",
       "</style>\n",
       "<table border=\"1\" class=\"dataframe\">\n",
       "  <thead>\n",
       "    <tr>\n",
       "      <th></th>\n",
       "      <th>Subject</th>\n",
       "      <th colspan=\"2\" halign=\"left\">Bob</th>\n",
       "      <th colspan=\"2\" halign=\"left\">Giudo</th>\n",
       "      <th colspan=\"2\" halign=\"left\">Sue</th>\n",
       "    </tr>\n",
       "    <tr>\n",
       "      <th></th>\n",
       "      <th>type</th>\n",
       "      <th>HR</th>\n",
       "      <th>Temp</th>\n",
       "      <th>HR</th>\n",
       "      <th>Temp</th>\n",
       "      <th>HR</th>\n",
       "      <th>Temp</th>\n",
       "    </tr>\n",
       "    <tr>\n",
       "      <th>year</th>\n",
       "      <th>visit</th>\n",
       "      <th></th>\n",
       "      <th></th>\n",
       "      <th></th>\n",
       "      <th></th>\n",
       "      <th></th>\n",
       "      <th></th>\n",
       "    </tr>\n",
       "  </thead>\n",
       "  <tbody>\n",
       "    <tr>\n",
       "      <th rowspan=\"2\" valign=\"top\">2013</th>\n",
       "      <th>1</th>\n",
       "      <td>-1.0</td>\n",
       "      <td>0.0</td>\n",
       "      <td>-2.0</td>\n",
       "      <td>0.0</td>\n",
       "      <td>-2.0</td>\n",
       "      <td>1.0</td>\n",
       "    </tr>\n",
       "    <tr>\n",
       "      <th>2</th>\n",
       "      <td>-0.0</td>\n",
       "      <td>-1.0</td>\n",
       "      <td>0.0</td>\n",
       "      <td>1.0</td>\n",
       "      <td>1.0</td>\n",
       "      <td>-1.0</td>\n",
       "    </tr>\n",
       "    <tr>\n",
       "      <th rowspan=\"2\" valign=\"top\">2014</th>\n",
       "      <th>1</th>\n",
       "      <td>1.0</td>\n",
       "      <td>0.0</td>\n",
       "      <td>-1.0</td>\n",
       "      <td>1.0</td>\n",
       "      <td>1.0</td>\n",
       "      <td>0.0</td>\n",
       "    </tr>\n",
       "    <tr>\n",
       "      <th>2</th>\n",
       "      <td>1.0</td>\n",
       "      <td>1.0</td>\n",
       "      <td>1.0</td>\n",
       "      <td>-1.0</td>\n",
       "      <td>0.0</td>\n",
       "      <td>-2.0</td>\n",
       "    </tr>\n",
       "  </tbody>\n",
       "</table>\n",
       "</div>"
      ],
      "text/plain": [
       "Subject     Bob      Giudo       Sue     \n",
       "type         HR Temp    HR Temp   HR Temp\n",
       "year visit                               \n",
       "2013 1     -1.0  0.0  -2.0  0.0 -2.0  1.0\n",
       "     2     -0.0 -1.0   0.0  1.0  1.0 -1.0\n",
       "2014 1      1.0  0.0  -1.0  1.0  1.0  0.0\n",
       "     2      1.0  1.0   1.0 -1.0  0.0 -2.0"
      ]
     },
     "execution_count": 260,
     "metadata": {},
     "output_type": "execute_result"
    }
   ],
   "source": [
    "index = pd.MultiIndex.from_product([[2013,2014],[1,2]],names = ['year','visit'])\n",
    "col = pd.MultiIndex.from_product([['soso','noso','hoso'],['HR','MR']],names = ['subject','type'])\n",
    "data = np.round(np.random.randn(4,6))\n",
    "h_data = pd.DataFrame(data,index = index ,columns = columns)\n",
    "h_data"
   ]
  },
  {
   "cell_type": "markdown",
   "id": "254c80ba",
   "metadata": {},
   "source": [
    "# Pandas With String:"
   ]
  },
  {
   "cell_type": "code",
   "execution_count": 274,
   "id": "8e257658",
   "metadata": {},
   "outputs": [
    {
     "name": "stdout",
     "output_type": "stream",
     "text": [
      "0     5\n",
      "1     4\n",
      "2     4\n",
      "3    11\n",
      "4     2\n",
      "5     5\n",
      "6     5\n",
      "7     4\n",
      "8     5\n",
      "dtype: int64\n"
     ]
    }
   ],
   "source": [
    "data = ['peter','Poul','MARY',\"Abdo Shokry\" , '20', '90.50' ,\"     \" ,'Alaa', 'no@bo']\n",
    "print(pd.Series(data).str.len())\n"
   ]
  },
  {
   "cell_type": "code",
   "execution_count": 277,
   "id": "d1696252",
   "metadata": {},
   "outputs": [
    {
     "name": "stdout",
     "output_type": "stream",
     "text": [
      "0    False\n",
      "1    False\n",
      "2    False\n",
      "3     True\n",
      "4    False\n",
      "5    False\n",
      "6    False\n",
      "7     True\n",
      "8    False\n",
      "dtype: bool\n",
      "**************************\n",
      "0     True\n",
      "1    False\n",
      "2    False\n",
      "3    False\n",
      "4    False\n",
      "5    False\n",
      "6    False\n",
      "7    False\n",
      "8    False\n",
      "dtype: bool\n",
      "**************************\n",
      "0    False\n",
      "1    False\n",
      "2     True\n",
      "3    False\n",
      "4    False\n",
      "5    False\n",
      "6    False\n",
      "7    False\n",
      "8    False\n",
      "dtype: bool\n"
     ]
    }
   ],
   "source": [
    "data = ['peter','Poul','MARY',\"Abdo Shokry\" , '20', '90.50' ,\"     \" ,'Alaa', 'no@bo']\n",
    "print(pd.Series(data).str.startswith('A'))\n",
    "print(\"**************************\")\n",
    "print(pd.Series(data).str.startswith('p'))\n",
    "print(\"**************************\")\n",
    "print(pd.Series(data).str.startswith('M'))\n"
   ]
  },
  {
   "cell_type": "code",
   "execution_count": 283,
   "id": "f2672dff",
   "metadata": {},
   "outputs": [
    {
     "name": "stdout",
     "output_type": "stream",
     "text": [
      "0    False\n",
      "1     True\n",
      "2    False\n",
      "3     True\n",
      "4    False\n",
      "5    False\n",
      "6    False\n",
      "7    False\n",
      "8     True\n",
      "dtype: bool\n",
      "**************************\n",
      "0     True\n",
      "1    False\n",
      "2    False\n",
      "3    False\n",
      "4    False\n",
      "5    False\n",
      "6    False\n",
      "7    False\n",
      "8    False\n",
      "dtype: bool\n",
      "**************************\n",
      "0    False\n",
      "1    False\n",
      "2    False\n",
      "3    False\n",
      "4    False\n",
      "5    False\n",
      "6    False\n",
      "7     True\n",
      "8    False\n",
      "dtype: bool\n"
     ]
    }
   ],
   "source": [
    "data = ['peter','Pouly','MARY',\"Abdo Shokry\" , '20', '90.50' ,\"     \" ,'Alaa', 'no@boy']\n",
    "print(pd.Series(data).str.endswith('y'))\n",
    "print(\"**************************\")\n",
    "print(pd.Series(data).str.endswith('r'))\n",
    "print(\"**************************\")\n",
    "print(pd.Series(data).str.endswith('a'))"
   ]
  },
  {
   "cell_type": "code",
   "execution_count": 285,
   "id": "0b68e745",
   "metadata": {},
   "outputs": [
    {
     "name": "stdout",
     "output_type": "stream",
     "text": [
      "0    -1\n",
      "1     4\n",
      "2    -1\n",
      "3    10\n",
      "4    -1\n",
      "5    -1\n",
      "6    -1\n",
      "7    -1\n",
      "8     5\n",
      "dtype: int64\n",
      "**************************\n",
      "0    4\n",
      "1   -1\n",
      "2   -1\n",
      "3    9\n",
      "4   -1\n",
      "5   -1\n",
      "6   -1\n",
      "7   -1\n",
      "8   -1\n",
      "dtype: int64\n",
      "**************************\n",
      "0   -1\n",
      "1   -1\n",
      "2   -1\n",
      "3   -1\n",
      "4   -1\n",
      "5   -1\n",
      "6   -1\n",
      "7    2\n",
      "8   -1\n",
      "dtype: int64\n"
     ]
    }
   ],
   "source": [
    "data = ['peter','Pouly','MARY',\"Abdo Shokry\" , '20', '90.50' ,\"     \" ,'Alaa', 'no@boy']\n",
    "print(pd.Series(data).str.find('y'))\n",
    "print(\"**************************\")\n",
    "print(pd.Series(data).str.find('r'))\n",
    "print(\"**************************\")\n",
    "print(pd.Series(data).str.find('a'))"
   ]
  },
  {
   "cell_type": "code",
   "execution_count": 290,
   "id": "31f33f35",
   "metadata": {},
   "outputs": [
    {
     "name": "stdout",
     "output_type": "stream",
     "text": [
      "0                        peter\n",
      "1                        Pouly\n",
      "2                         MARY\n",
      "3                  Abdo Shokry\n",
      "4                           20\n",
      "5                        90.50\n",
      "6                             \n",
      "7                         Alaa\n",
      "8                       no@boy\n",
      "dtype: object\n"
     ]
    }
   ],
   "source": [
    "data = ['peter','Pouly','MARY',\"Abdo Shokry\" , '20', '90.50' ,\"     \" ,'Alaa', 'no@boy']\n",
    "print(pd.Series(data).str.rjust(25))"
   ]
  },
  {
   "cell_type": "code",
   "execution_count": 291,
   "id": "a3f3f6f2",
   "metadata": {},
   "outputs": [
    {
     "name": "stdout",
     "output_type": "stream",
     "text": [
      "0    peter                    \n",
      "1    Pouly                    \n",
      "2    MARY                     \n",
      "3    Abdo Shokry              \n",
      "4    20                       \n",
      "5    90.50                    \n",
      "6                             \n",
      "7    Alaa                     \n",
      "8    no@boy                   \n",
      "dtype: object\n"
     ]
    }
   ],
   "source": [
    "data = ['peter','Pouly','MARY',\"Abdo Shokry\" , '20', '90.50' ,\"     \" ,'Alaa', 'no@boy']\n",
    "print(pd.Series(data).str.ljust(25))"
   ]
  },
  {
   "cell_type": "code",
   "execution_count": 293,
   "id": "6fb2392a",
   "metadata": {},
   "outputs": [
    {
     "name": "stdout",
     "output_type": "stream",
     "text": [
      "0           peter        \n",
      "1           Pouly        \n",
      "2            MARY        \n",
      "3        Abdo Shokry     \n",
      "4             20         \n",
      "5           90.50        \n",
      "6                        \n",
      "7            Alaa        \n",
      "8           no@boy       \n",
      "dtype: object\n"
     ]
    }
   ],
   "source": [
    "data = ['peter','Pouly','MARY',\"Abdo Shokry\" , '20', '90.50' ,\"     \" ,'Alaa', 'no@boy']\n",
    "print(pd.Series(data).str.center(20))"
   ]
  },
  {
   "cell_type": "code",
   "execution_count": 297,
   "id": "61a3d17d",
   "metadata": {},
   "outputs": [
    {
     "name": "stdout",
     "output_type": "stream",
     "text": [
      "0    0000000000peter\n",
      "1    0000000000Pouly\n",
      "2    00000000000MARY\n",
      "3    0000Abdo Shokry\n",
      "4    000000000000020\n",
      "5    000000000090.50\n",
      "6    0000000000     \n",
      "7    00000000000Alaa\n",
      "8    000000000no@boy\n",
      "dtype: object\n"
     ]
    }
   ],
   "source": [
    "data = ['peter','Pouly','MARY',\"Abdo Shokry\" , '20', '90.50' ,\"     \" ,'Alaa', 'no@boy']\n",
    "print(pd.Series(data).str.zfill(15))"
   ]
  },
  {
   "cell_type": "code",
   "execution_count": 299,
   "id": "4cffc068",
   "metadata": {},
   "outputs": [
    {
     "name": "stdout",
     "output_type": "stream",
     "text": [
      "0    False\n",
      "1    False\n",
      "2     True\n",
      "3    False\n",
      "4    False\n",
      "5    False\n",
      "6    False\n",
      "7    False\n",
      "8    False\n",
      "dtype: bool\n"
     ]
    }
   ],
   "source": [
    "data = ['peter','Pouly','MARY',\"Abdo Shokry\" , '20', '90.50' ,\"     \" ,'Alaa', 'no@boy']\n",
    "print(pd.Series(data).str.isupper())"
   ]
  },
  {
   "cell_type": "code",
   "execution_count": 300,
   "id": "53505db8",
   "metadata": {},
   "outputs": [
    {
     "name": "stdout",
     "output_type": "stream",
     "text": [
      "0     True\n",
      "1    False\n",
      "2    False\n",
      "3    False\n",
      "4    False\n",
      "5    False\n",
      "6    False\n",
      "7    False\n",
      "8     True\n",
      "dtype: bool\n"
     ]
    }
   ],
   "source": [
    "data = ['peter','Pouly','MARY',\"Abdo Shokry\" , '20', '90.50' ,\"     \" ,'Alaa', 'no@boy']\n",
    "print(pd.Series(data).str.islower())"
   ]
  },
  {
   "cell_type": "code",
   "execution_count": 301,
   "id": "d4f91cb1",
   "metadata": {},
   "outputs": [
    {
     "name": "stdout",
     "output_type": "stream",
     "text": [
      "0    False\n",
      "1     True\n",
      "2    False\n",
      "3     True\n",
      "4    False\n",
      "5    False\n",
      "6    False\n",
      "7     True\n",
      "8    False\n",
      "dtype: bool\n"
     ]
    }
   ],
   "source": [
    "data = ['peter','Pouly','MARY',\"Abdo Shokry\" , '20', '90.50' ,\"     \" ,'Alaa', 'no@boy']\n",
    "print(pd.Series(data).str.istitle())"
   ]
  },
  {
   "cell_type": "code",
   "execution_count": 302,
   "id": "7634ef15",
   "metadata": {},
   "outputs": [
    {
     "name": "stdout",
     "output_type": "stream",
     "text": [
      "0    False\n",
      "1    False\n",
      "2    False\n",
      "3    False\n",
      "4    False\n",
      "5    False\n",
      "6     True\n",
      "7    False\n",
      "8    False\n",
      "dtype: bool\n"
     ]
    }
   ],
   "source": [
    "data = ['peter','Pouly','MARY',\"Abdo Shokry\" , '20', '90.50' ,\"     \" ,'Alaa', 'no@boy']\n",
    "print(pd.Series(data).str.isspace())"
   ]
  },
  {
   "cell_type": "code",
   "execution_count": 303,
   "id": "1b908e1c",
   "metadata": {},
   "outputs": [
    {
     "name": "stdout",
     "output_type": "stream",
     "text": [
      "0    False\n",
      "1    False\n",
      "2    False\n",
      "3    False\n",
      "4     True\n",
      "5    False\n",
      "6    False\n",
      "7    False\n",
      "8    False\n",
      "dtype: bool\n"
     ]
    }
   ],
   "source": [
    "data = ['peter','Pouly','MARY',\"Abdo Shokry\" , '20', '90.50' ,\"     \" ,'Alaa', 'no@boy']\n",
    "print(pd.Series(data).str.isdigit())"
   ]
  },
  {
   "cell_type": "code",
   "execution_count": 306,
   "id": "e851374c",
   "metadata": {},
   "outputs": [
    {
     "name": "stdout",
     "output_type": "stream",
     "text": [
      "0     True\n",
      "1     True\n",
      "2     True\n",
      "3    False\n",
      "4    False\n",
      "5    False\n",
      "6    False\n",
      "7     True\n",
      "8    False\n",
      "dtype: bool\n"
     ]
    }
   ],
   "source": [
    "data = ['peter','Pouly','MARY',\"Abdo Shokry\" , '20', '90.50' ,\"     \" ,'Alaa', 'no@boy']\n",
    "print(pd.Series(data).str.isalpha())"
   ]
  },
  {
   "cell_type": "code",
   "execution_count": 307,
   "id": "2ef0d602",
   "metadata": {},
   "outputs": [
    {
     "name": "stdout",
     "output_type": "stream",
     "text": [
      "0     True\n",
      "1     True\n",
      "2     True\n",
      "3    False\n",
      "4     True\n",
      "5    False\n",
      "6    False\n",
      "7     True\n",
      "8    False\n",
      "dtype: bool\n"
     ]
    }
   ],
   "source": [
    "data = ['peter','Pouly','MARY',\"Abdo Shokry\" , '20', '90.50' ,\"     \" ,'Alaa', 'no@boy']\n",
    "print(pd.Series(data).str.isalnum()) # ما فيه فرغات خالص"
   ]
  },
  {
   "cell_type": "code",
   "execution_count": 308,
   "id": "b3a0b7b2",
   "metadata": {},
   "outputs": [
    {
     "name": "stdout",
     "output_type": "stream",
     "text": [
      "0    False\n",
      "1    False\n",
      "2    False\n",
      "3    False\n",
      "4     True\n",
      "5    False\n",
      "6    False\n",
      "7    False\n",
      "8    False\n",
      "dtype: bool\n"
     ]
    }
   ],
   "source": [
    "print(pd.Series(data).str.isdecimal())  # رقم عشريي"
   ]
  },
  {
   "cell_type": "code",
   "execution_count": 309,
   "id": "89d9e2a5",
   "metadata": {},
   "outputs": [
    {
     "name": "stdout",
     "output_type": "stream",
     "text": [
      "0    False\n",
      "1    False\n",
      "2    False\n",
      "3    False\n",
      "4     True\n",
      "5    False\n",
      "6    False\n",
      "7    False\n",
      "8    False\n",
      "dtype: bool\n"
     ]
    }
   ],
   "source": [
    "print(pd.Series(data).str.isnumeric())"
   ]
  },
  {
   "cell_type": "code",
   "execution_count": 310,
   "id": "d0f5cbd8",
   "metadata": {},
   "outputs": [
    {
     "name": "stdout",
     "output_type": "stream",
     "text": [
      "0          PETER\n",
      "1          POULY\n",
      "2           MARY\n",
      "3    ABDO SHOKRY\n",
      "4             20\n",
      "5          90.50\n",
      "6               \n",
      "7           ALAA\n",
      "8         NO@BOY\n",
      "dtype: object\n"
     ]
    }
   ],
   "source": [
    "data = ['peter','Pouly','MARY',\"Abdo Shokry\" , '20', '90.50' ,\"     \" ,'Alaa', 'no@boy']\n",
    "print(pd.Series(data).str.upper())"
   ]
  },
  {
   "cell_type": "code",
   "execution_count": 311,
   "id": "a35550dc",
   "metadata": {},
   "outputs": [
    {
     "name": "stdout",
     "output_type": "stream",
     "text": [
      "0          peter\n",
      "1          pouly\n",
      "2           mary\n",
      "3    abdo shokry\n",
      "4             20\n",
      "5          90.50\n",
      "6               \n",
      "7           alaa\n",
      "8         no@boy\n",
      "dtype: object\n"
     ]
    }
   ],
   "source": [
    "data = ['peter','Pouly','MARY',\"Abdo Shokry\" , '20', '90.50' ,\"     \" ,'Alaa', 'no@boy']\n",
    "print(pd.Series(data).str.lower())"
   ]
  },
  {
   "cell_type": "code",
   "execution_count": 315,
   "id": "7bbb9476",
   "metadata": {},
   "outputs": [
    {
     "name": "stdout",
     "output_type": "stream",
     "text": [
      "0          Peter\n",
      "1          Pouly\n",
      "2           Mary\n",
      "3    Abdo shokry\n",
      "4             20\n",
      "5          90.50\n",
      "6               \n",
      "7           Alaa\n",
      "8         No@boy\n",
      "dtype: object\n"
     ]
    }
   ],
   "source": [
    "data = ['peter','Pouly','MARY',\"Abdo Shokry\" , '20', '90.50' ,\"     \" ,'Alaa', 'no@boy']\n",
    "print(pd.Series(data).str.capitalize())"
   ]
  },
  {
   "cell_type": "code",
   "execution_count": 317,
   "id": "67018979",
   "metadata": {},
   "outputs": [
    {
     "name": "stdout",
     "output_type": "stream",
     "text": [
      "0          PETER\n",
      "1          pOULY\n",
      "2           mary\n",
      "3    aBDO sHOKRY\n",
      "4             20\n",
      "5          90.50\n",
      "6               \n",
      "7           aLAA\n",
      "8         NO@BOY\n",
      "dtype: object\n"
     ]
    }
   ],
   "source": [
    "data = ['peter','Pouly','MARY',\"Abdo Shokry\" , '20', '90.50' ,\"     \" ,'Alaa', 'no@boy']\n",
    "print(pd.Series(data).str.swapcase())  # بتعكس الحاله اللي عليها الداتا من كابيتال ولا سمول "
   ]
  },
  {
   "cell_type": "markdown",
   "id": "a9d392f0",
   "metadata": {},
   "source": [
    "# Pandas With files:\n",
    "# to read file and work in it "
   ]
  },
  {
   "cell_type": "code",
   "execution_count": 333,
   "id": "5ac660e0",
   "metadata": {},
   "outputs": [
    {
     "data": {
      "text/html": [
       "<div>\n",
       "<style scoped>\n",
       "    .dataframe tbody tr th:only-of-type {\n",
       "        vertical-align: middle;\n",
       "    }\n",
       "\n",
       "    .dataframe tbody tr th {\n",
       "        vertical-align: top;\n",
       "    }\n",
       "\n",
       "    .dataframe thead th {\n",
       "        text-align: right;\n",
       "    }\n",
       "</style>\n",
       "<table border=\"1\" class=\"dataframe\">\n",
       "  <thead>\n",
       "    <tr style=\"text-align: right;\">\n",
       "      <th></th>\n",
       "      <th>Unnamed: 0</th>\n",
       "      <th>Arabic</th>\n",
       "      <th>Math</th>\n",
       "      <th>English</th>\n",
       "      <th>French</th>\n",
       "      <th>Physics</th>\n",
       "      <th>Total</th>\n",
       "      <th>Percentage</th>\n",
       "    </tr>\n",
       "  </thead>\n",
       "  <tbody>\n",
       "    <tr>\n",
       "      <th>0</th>\n",
       "      <td>0</td>\n",
       "      <td>57</td>\n",
       "      <td>50</td>\n",
       "      <td>65</td>\n",
       "      <td>93</td>\n",
       "      <td>79</td>\n",
       "      <td>344</td>\n",
       "      <td>68.8</td>\n",
       "    </tr>\n",
       "    <tr>\n",
       "      <th>1</th>\n",
       "      <td>1</td>\n",
       "      <td>75</td>\n",
       "      <td>56</td>\n",
       "      <td>83</td>\n",
       "      <td>68</td>\n",
       "      <td>96</td>\n",
       "      <td>378</td>\n",
       "      <td>75.6</td>\n",
       "    </tr>\n",
       "    <tr>\n",
       "      <th>2</th>\n",
       "      <td>2</td>\n",
       "      <td>63</td>\n",
       "      <td>51</td>\n",
       "      <td>66</td>\n",
       "      <td>94</td>\n",
       "      <td>61</td>\n",
       "      <td>335</td>\n",
       "      <td>67.0</td>\n",
       "    </tr>\n",
       "    <tr>\n",
       "      <th>3</th>\n",
       "      <td>3</td>\n",
       "      <td>96</td>\n",
       "      <td>59</td>\n",
       "      <td>75</td>\n",
       "      <td>66</td>\n",
       "      <td>75</td>\n",
       "      <td>371</td>\n",
       "      <td>74.2</td>\n",
       "    </tr>\n",
       "    <tr>\n",
       "      <th>4</th>\n",
       "      <td>4</td>\n",
       "      <td>71</td>\n",
       "      <td>71</td>\n",
       "      <td>76</td>\n",
       "      <td>75</td>\n",
       "      <td>98</td>\n",
       "      <td>391</td>\n",
       "      <td>78.2</td>\n",
       "    </tr>\n",
       "    <tr>\n",
       "      <th>5</th>\n",
       "      <td>5</td>\n",
       "      <td>60</td>\n",
       "      <td>65</td>\n",
       "      <td>57</td>\n",
       "      <td>69</td>\n",
       "      <td>99</td>\n",
       "      <td>350</td>\n",
       "      <td>70.0</td>\n",
       "    </tr>\n",
       "    <tr>\n",
       "      <th>6</th>\n",
       "      <td>6</td>\n",
       "      <td>61</td>\n",
       "      <td>82</td>\n",
       "      <td>69</td>\n",
       "      <td>97</td>\n",
       "      <td>83</td>\n",
       "      <td>392</td>\n",
       "      <td>78.4</td>\n",
       "    </tr>\n",
       "    <tr>\n",
       "      <th>7</th>\n",
       "      <td>7</td>\n",
       "      <td>97</td>\n",
       "      <td>94</td>\n",
       "      <td>61</td>\n",
       "      <td>58</td>\n",
       "      <td>85</td>\n",
       "      <td>395</td>\n",
       "      <td>79.0</td>\n",
       "    </tr>\n",
       "    <tr>\n",
       "      <th>8</th>\n",
       "      <td>8</td>\n",
       "      <td>78</td>\n",
       "      <td>50</td>\n",
       "      <td>68</td>\n",
       "      <td>64</td>\n",
       "      <td>70</td>\n",
       "      <td>330</td>\n",
       "      <td>66.0</td>\n",
       "    </tr>\n",
       "    <tr>\n",
       "      <th>9</th>\n",
       "      <td>9</td>\n",
       "      <td>75</td>\n",
       "      <td>64</td>\n",
       "      <td>93</td>\n",
       "      <td>72</td>\n",
       "      <td>50</td>\n",
       "      <td>354</td>\n",
       "      <td>70.8</td>\n",
       "    </tr>\n",
       "  </tbody>\n",
       "</table>\n",
       "</div>"
      ],
      "text/plain": [
       "   Unnamed: 0  Arabic  Math  English  French  Physics  Total  Percentage\n",
       "0           0      57    50       65      93       79    344        68.8\n",
       "1           1      75    56       83      68       96    378        75.6\n",
       "2           2      63    51       66      94       61    335        67.0\n",
       "3           3      96    59       75      66       75    371        74.2\n",
       "4           4      71    71       76      75       98    391        78.2\n",
       "5           5      60    65       57      69       99    350        70.0\n",
       "6           6      61    82       69      97       83    392        78.4\n",
       "7           7      97    94       61      58       85    395        79.0\n",
       "8           8      78    50       68      64       70    330        66.0\n",
       "9           9      75    64       93      72       50    354        70.8"
      ]
     },
     "execution_count": 333,
     "metadata": {},
     "output_type": "execute_result"
    }
   ],
   "source": [
    "path = 'D:\\\\Learn\\\\Hesham Asem\\\\Python-C\\\\Pandas\\\\StudentData.csv'\n",
    "data = pd.read_csv(path)\n",
    "data.head(10)"
   ]
  },
  {
   "cell_type": "code",
   "execution_count": 356,
   "id": "0e8f26bb",
   "metadata": {},
   "outputs": [
    {
     "data": {
      "text/html": [
       "<div>\n",
       "<style scoped>\n",
       "    .dataframe tbody tr th:only-of-type {\n",
       "        vertical-align: middle;\n",
       "    }\n",
       "\n",
       "    .dataframe tbody tr th {\n",
       "        vertical-align: top;\n",
       "    }\n",
       "\n",
       "    .dataframe thead th {\n",
       "        text-align: right;\n",
       "    }\n",
       "</style>\n",
       "<table border=\"1\" class=\"dataframe\">\n",
       "  <thead>\n",
       "    <tr style=\"text-align: right;\">\n",
       "      <th></th>\n",
       "      <th>student</th>\n",
       "      <th>Arabic</th>\n",
       "      <th>Math</th>\n",
       "      <th>English</th>\n",
       "      <th>French</th>\n",
       "      <th>Physics</th>\n",
       "      <th>Total</th>\n",
       "      <th>Percentage</th>\n",
       "    </tr>\n",
       "  </thead>\n",
       "  <tbody>\n",
       "    <tr>\n",
       "      <th>0</th>\n",
       "      <td>NaN</td>\n",
       "      <td>Arabic</td>\n",
       "      <td>Math</td>\n",
       "      <td>English</td>\n",
       "      <td>French</td>\n",
       "      <td>Physics</td>\n",
       "      <td>Total</td>\n",
       "      <td>Percentage</td>\n",
       "    </tr>\n",
       "    <tr>\n",
       "      <th>1</th>\n",
       "      <td>0.0</td>\n",
       "      <td>57</td>\n",
       "      <td>50</td>\n",
       "      <td>65</td>\n",
       "      <td>93</td>\n",
       "      <td>79</td>\n",
       "      <td>344</td>\n",
       "      <td>68.8</td>\n",
       "    </tr>\n",
       "    <tr>\n",
       "      <th>2</th>\n",
       "      <td>1.0</td>\n",
       "      <td>75</td>\n",
       "      <td>56</td>\n",
       "      <td>83</td>\n",
       "      <td>68</td>\n",
       "      <td>96</td>\n",
       "      <td>378</td>\n",
       "      <td>75.6</td>\n",
       "    </tr>\n",
       "    <tr>\n",
       "      <th>3</th>\n",
       "      <td>2.0</td>\n",
       "      <td>63</td>\n",
       "      <td>51</td>\n",
       "      <td>66</td>\n",
       "      <td>94</td>\n",
       "      <td>61</td>\n",
       "      <td>335</td>\n",
       "      <td>67.0</td>\n",
       "    </tr>\n",
       "    <tr>\n",
       "      <th>4</th>\n",
       "      <td>3.0</td>\n",
       "      <td>96</td>\n",
       "      <td>59</td>\n",
       "      <td>75</td>\n",
       "      <td>66</td>\n",
       "      <td>75</td>\n",
       "      <td>371</td>\n",
       "      <td>74.2</td>\n",
       "    </tr>\n",
       "    <tr>\n",
       "      <th>...</th>\n",
       "      <td>...</td>\n",
       "      <td>...</td>\n",
       "      <td>...</td>\n",
       "      <td>...</td>\n",
       "      <td>...</td>\n",
       "      <td>...</td>\n",
       "      <td>...</td>\n",
       "      <td>...</td>\n",
       "    </tr>\n",
       "    <tr>\n",
       "      <th>96</th>\n",
       "      <td>95.0</td>\n",
       "      <td>91</td>\n",
       "      <td>51</td>\n",
       "      <td>87</td>\n",
       "      <td>50</td>\n",
       "      <td>92</td>\n",
       "      <td>371</td>\n",
       "      <td>74.2</td>\n",
       "    </tr>\n",
       "    <tr>\n",
       "      <th>97</th>\n",
       "      <td>96.0</td>\n",
       "      <td>90</td>\n",
       "      <td>64</td>\n",
       "      <td>87</td>\n",
       "      <td>75</td>\n",
       "      <td>88</td>\n",
       "      <td>404</td>\n",
       "      <td>80.80000000000001</td>\n",
       "    </tr>\n",
       "    <tr>\n",
       "      <th>98</th>\n",
       "      <td>97.0</td>\n",
       "      <td>98</td>\n",
       "      <td>54</td>\n",
       "      <td>94</td>\n",
       "      <td>64</td>\n",
       "      <td>56</td>\n",
       "      <td>366</td>\n",
       "      <td>73.2</td>\n",
       "    </tr>\n",
       "    <tr>\n",
       "      <th>99</th>\n",
       "      <td>98.0</td>\n",
       "      <td>95</td>\n",
       "      <td>64</td>\n",
       "      <td>99</td>\n",
       "      <td>50</td>\n",
       "      <td>72</td>\n",
       "      <td>380</td>\n",
       "      <td>76.0</td>\n",
       "    </tr>\n",
       "    <tr>\n",
       "      <th>100</th>\n",
       "      <td>99.0</td>\n",
       "      <td>98</td>\n",
       "      <td>58</td>\n",
       "      <td>65</td>\n",
       "      <td>81</td>\n",
       "      <td>87</td>\n",
       "      <td>389</td>\n",
       "      <td>77.8</td>\n",
       "    </tr>\n",
       "  </tbody>\n",
       "</table>\n",
       "<p>101 rows × 8 columns</p>\n",
       "</div>"
      ],
      "text/plain": [
       "     student  Arabic  Math  English  French  Physics  Total         Percentage\n",
       "0        NaN  Arabic  Math  English  French  Physics  Total         Percentage\n",
       "1        0.0      57    50       65      93       79    344               68.8\n",
       "2        1.0      75    56       83      68       96    378               75.6\n",
       "3        2.0      63    51       66      94       61    335               67.0\n",
       "4        3.0      96    59       75      66       75    371               74.2\n",
       "..       ...     ...   ...      ...     ...      ...    ...                ...\n",
       "96      95.0      91    51       87      50       92    371               74.2\n",
       "97      96.0      90    64       87      75       88    404  80.80000000000001\n",
       "98      97.0      98    54       94      64       56    366               73.2\n",
       "99      98.0      95    64       99      50       72    380               76.0\n",
       "100     99.0      98    58       65      81       87    389               77.8\n",
       "\n",
       "[101 rows x 8 columns]"
      ]
     },
     "execution_count": 356,
     "metadata": {},
     "output_type": "execute_result"
    }
   ],
   "source": [
    "columnsnames = ['student','Arabic','Math','English','French','Physics','Total','Percentage']\n",
    "path = 'D:\\\\Learn\\\\Hesham Asem\\\\Python-C\\\\Pandas\\\\StudentData.csv'\n",
    "data = pd.read_csv(path,names = columnsnames)\n",
    "data"
   ]
  },
  {
   "cell_type": "code",
   "execution_count": null,
   "id": "6701457f",
   "metadata": {},
   "outputs": [],
   "source": []
  }
 ],
 "metadata": {
  "kernelspec": {
   "display_name": "Python 3 (ipykernel)",
   "language": "python",
   "name": "python3"
  },
  "language_info": {
   "codemirror_mode": {
    "name": "ipython",
    "version": 3
   },
   "file_extension": ".py",
   "mimetype": "text/x-python",
   "name": "python",
   "nbconvert_exporter": "python",
   "pygments_lexer": "ipython3",
   "version": "3.9.12"
  }
 },
 "nbformat": 4,
 "nbformat_minor": 5
}
